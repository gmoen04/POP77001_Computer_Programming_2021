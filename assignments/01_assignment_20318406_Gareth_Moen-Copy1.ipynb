{
 "cells": [
  {
   "cell_type": "markdown",
   "metadata": {
    "slideshow": {
     "slide_type": "slide"
    }
   },
   "source": [
    "# Assignment 1: Python Basics\n",
    "\n",
    "## POP77001 Computer Programming for Social Scientists"
   ]
  },
  {
   "cell_type": "markdown",
   "metadata": {
    "slideshow": {
     "slide_type": "slide"
    }
   },
   "source": [
    "## Before submission\n",
    "\n",
    "- Make sure that you can run all cells without errors\n",
    "- You can do it by clicking `Kernel`, `Restart & Run All` in the menu above\n",
    "- Make sure that you save the output by pressing Command+S / CTRL+S\n",
    "- Rename the file from `01_assignment.ipynb` to `01_assignment_studentnumber_firstname_lastname.ipynb`"
   ]
  },
  {
   "cell_type": "markdown",
   "metadata": {
    "slideshow": {
     "slide_type": "slide"
    }
   },
   "source": [
    "## Exercise 1: Slicing (20 points)\n",
    "\n",
    "Using only slicing operations create words 'dish', 'wash', 'he' and 'saw' out of the word 'dishwasher'. Finally, reverse the order of letters in the word (spell it backwards). Print the results."
   ]
  },
  {
   "cell_type": "code",
   "execution_count": 1,
   "metadata": {},
   "outputs": [
    {
     "name": "stdout",
     "output_type": "stream",
     "text": [
      "dish\n",
      "wash\n",
      "he\n",
      "saw\n",
      "rehsawhsid\n"
     ]
    }
   ],
   "source": [
    "# Exercise 1:\n",
    "\n",
    "dishwasher = 'dishwasher'\n",
    "\n",
    "d2 = dishwasher[0:4] # dishwasher slided down to 'dish'\n",
    "d3 = dishwasher[4:8] # dishwasher slided down to 'wash'\n",
    "d4 = dishwasher[3:9:5] # dishwasher slided down to 'he' by selecting the 5th character and each subsequent 4th character\n",
    "d5 = dishwasher[4:7][::-1] # dishwasher slided down to 'was' and then reversed to 'saw'\n",
    "d6 = dishwasher[::-1] # dishwasher with the characters in reverse order\n",
    "print(d2)\n",
    "print(d3)\n",
    "print(d4)\n",
    "print(d5)\n",
    "print(d6)\n"
   ]
  },
  {
   "cell_type": "markdown",
   "metadata": {
    "slideshow": {
     "slide_type": "slide"
    }
   },
   "source": [
    "## Exercise 2: String methods (20 points)\n",
    "\n",
    "Remove trailing whitespaces (before and after the sentence) in the string below. Replace all double whitespaces with one. Format it as a sentence with correct punctuation. Print the result."
   ]
  },
  {
   "cell_type": "code",
   "execution_count": 2,
   "metadata": {},
   "outputs": [
    {
     "name": "stdout",
     "output_type": "stream",
     "text": [
      "Truth can only be found in one place: the code.\n"
     ]
    }
   ],
   "source": [
    "# Exercise 2:\n",
    "\n",
    "s = \"   truth  can  only be  found in  one place:  the  code \"\n",
    "\n",
    "s = s.strip().replace('  ', ' ').capitalize() + '.' # Removes the whitespaces, replaces double whitespaces with one and formats it with correct punctuation, including a full stop.\n",
    "print(s)"
   ]
  },
  {
   "cell_type": "markdown",
   "metadata": {
    "slideshow": {
     "slide_type": "slide"
    }
   },
   "source": [
    "## Exercise 3: List methods (20 points)\n",
    "\n",
    "Below is a shuffled version of the first 11 elements of [Fibonacci sequence](https://en.wikipedia.org/wiki/Fibonacci_number). Create a copy of the shuffled list, remove the last element and sort it from smaller integers to larger. Select the second smallest and the third largest integers in the sequence. Print them out. Replace them in the list with the string, containing word corresponding to that number (e.g. 'two' for 2). Print out the results."
   ]
  },
  {
   "cell_type": "code",
   "execution_count": 3,
   "metadata": {},
   "outputs": [
    {
     "name": "stdout",
     "output_type": "stream",
     "text": [
      "1 21\n",
      "[0, 'one', 2, 3, 5, 8, 13, 'twenty one', 34, 55]\n"
     ]
    }
   ],
   "source": [
    "# Exercise 3:\n",
    "\n",
    "fib_shuffled = [34, 5, 3, 1, 13, 55, 21, 2, 8, 0, 1]\n",
    "\n",
    "fib_shuffled.copy() # creates a copy of the list\n",
    "fib_shuffled.pop() # removes the last element the list\n",
    "fib_shuffled.sort() # sorts the list from smallest to largest\n",
    "print(fib_shuffled[1], fib_shuffled[-3]) # selects and prints the second smallest & third largest integer in the list\n",
    "fib_shuffled[1] = 'one' # replace the second smallest integer with its corresponding word\n",
    "fib_shuffled[-3] = 'twenty one' # replace the third largest integer with its correspoinding word\n",
    "print(fib_shuffled) # printing out the result of the finalised list, including the strings"
   ]
  },
  {
   "cell_type": "markdown",
   "metadata": {
    "slideshow": {
     "slide_type": "slide"
    }
   },
   "source": [
    "## Exercise 4: Set methods (20 points)\n",
    "\n",
    "<div style=\"text-align: center;\">\n",
    "    <img width=\"500\" height=\"300\" src=\"../imgs/europe_diagram.png\">\n",
    "</div>\n",
    "\n",
    "Source: [Wikipedia](https://en.wikipedia.org/w/index.php?title=File:Supranational_European_Bodies-en.svg)\n",
    "\n",
    "Create a set called `visegrad`, which includes all the countries from the Visegrád Group. Create lists `baltic` and `benelux` with respective countries. Convert them into sets. Create a union of these states and countries from the Visegrád Group.\n",
    "\n",
    "Tip: If any flags are unfamiliar, check the interactive version of the diagram [here](https://upload.wikimedia.org/wikipedia/commons/1/1a/Supranational_European_Bodies-en.svg)"
   ]
  },
  {
   "cell_type": "code",
   "execution_count": 4,
   "metadata": {},
   "outputs": [],
   "source": [
    "# Exercise 4:\n",
    "\n",
    "visegrad = {'Poland', 'Czech Republic', 'Hungary', 'Slovakia'} # visegrad set\n",
    "baltic = ['Estonia', 'Latvia', 'Lithuania'] # baltic list\n",
    "benelux = ['Belgium', 'Netherlands', 'Luxembourg'] # benelux list\n",
    "setbaltic = set(baltic) # convert list 'baltic' into set called 'setbaltic'\n",
    "setbenelux = set(benelux) # convert list 'benelux' into set called 'setbenelux'\n",
    "setbbv = setbaltic.union(setbenelux).union(visegrad) # creates a set including 'setbaltic', 'setbenelux' and the set 'visegrad'"
   ]
  },
  {
   "cell_type": "markdown",
   "metadata": {
    "slideshow": {
     "slide_type": "slide"
    }
   },
   "source": [
    "## Exercise 5: Library problem (20 points)\n",
    "\n",
    "Imagine you are tasked to help a local library organise their book catalogue. Users and librarians would need to be able to search by authors and by book titles, without always knowing both of those. For simplicity, let's assume that books in catalogues are organised by author (and not by book code).\n",
    "\n",
    "Describe in your own words what built-in data structure(s) in Python you would use to design such a system.\n",
    "\n",
    "Implement a mock-up of such system using a couple of author-book examples of your choice."
   ]
  },
  {
   "cell_type": "code",
   "execution_count": 5,
   "metadata": {},
   "outputs": [
    {
     "data": {
      "text/plain": [
       "'Tolkien'"
      ]
     },
     "execution_count": 5,
     "metadata": {},
     "output_type": "execute_result"
    }
   ],
   "source": [
    "# Exercise 5:\n",
    "\n",
    "# Such a sytem should use two dictionaires with keys and values, one with authors as keys and book titles as values\n",
    "# the second dictionary should use the opposite, titles as keys and authors as values \n",
    "# search the 'author_search' dict if you know the author but not the title\n",
    "# search the 'title_search' dict if you know the title but not the author\n",
    "\n",
    "author_search = {'Collodi': 'Pinocchio', 'Rowling': 'Harry Potter', 'Tolkien': 'The Hobbit'} # dict with 3 authors as keys and titles as values\n",
    "author_search['Collodi'] # search for the author 'Collodi' returns the title \"Pinnocchio\"\n",
    "title_search = {'Pinnochio': 'Collodi', 'Harry Potter': 'Rowling', 'The Hobbit': 'Tolkien'}\n",
    "title_search['The Hobbit'] # search the the title 'The Hobbit' returns the author 'Tolkien'"
   ]
  },
  {
   "cell_type": "code",
   "execution_count": null,
   "metadata": {},
   "outputs": [],
   "source": []
  }
 ],
 "metadata": {
  "celltoolbar": "Slideshow",
  "kernelspec": {
   "display_name": "Python 3 (ipykernel)",
   "language": "python",
   "name": "python3"
  },
  "language_info": {
   "codemirror_mode": {
    "name": "ipython",
    "version": 3
   },
   "file_extension": ".py",
   "mimetype": "text/x-python",
   "name": "python",
   "nbconvert_exporter": "python",
   "pygments_lexer": "ipython3",
   "version": "3.8.8"
  }
 },
 "nbformat": 4,
 "nbformat_minor": 4
}
