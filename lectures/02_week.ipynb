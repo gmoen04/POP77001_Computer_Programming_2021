{
 "cells": [
  {
   "cell_type": "markdown",
   "id": "a008a132",
   "metadata": {
    "slideshow": {
     "slide_type": "slide"
    }
   },
   "source": [
    "# Week 2: Python Basics\n",
    "\n",
    "## POP77001 Computer Programming for Social Scientists\n",
    "\n",
    "### Tom Paskhalis\n",
    "\n",
    "##### Module website: [bit.ly/POP77001](https://bit.ly/POP77001)"
   ]
  },
  {
   "cell_type": "markdown",
   "id": "c28063a8",
   "metadata": {
    "slideshow": {
     "slide_type": "slide"
    }
   },
   "source": [
    "<table>\n",
    "    <tr>\n",
    "        <td><img width=\"500\" src='../imgs/python_snake.jpg'></td>\n",
    "        <td><img width=\"500\" src='../imgs/python_monty.png'></td>\n",
    "    </tr>\n",
    "</table>"
   ]
  },
  {
   "cell_type": "markdown",
   "id": "b20a7fb6",
   "metadata": {
    "slideshow": {
     "slide_type": "slide"
    }
   },
   "source": [
    "<div style=\"text-align: center;\">\n",
    "    <img width=\"500\" height=\"300\" src=\"../imgs/xkcd_353.png\">\n",
    "</div>\n",
    "\n",
    "Source: [xkcd](https://xkcd.com/353/)"
   ]
  },
  {
   "cell_type": "markdown",
   "id": "32e8caf3",
   "metadata": {
    "slideshow": {
     "slide_type": "slide"
    }
   },
   "source": [
    "## Python background\n",
    "\n",
    "<table>\n",
    "    <tr>\n",
    "        <td><img width=\"200\" height=\"100\" src='../imgs/guido.gif'></td>\n",
    "        <td><img width=\"200\" height=\"100\" src='../imgs/python_logo.png'></td>\n",
    "    </tr>\n",
    "</table>\n",
    "\n",
    "Source: [Guido van Rossum](https://gvanrossum.github.io/), [Python Software Foundation](https://www.python.org/psf-landing/)\n",
    "\n",
    "- Started as a side-project in 1989 by Guido van Rossum, BDFL (benevolent dictator for life) until 2018.\n",
    "- Python 3, first released in 2008, is the current major version\n",
    "- Python 2 support stopped on 1 January 2020"
   ]
  },
  {
   "cell_type": "markdown",
   "id": "93345c39",
   "metadata": {
    "slideshow": {
     "slide_type": "slide"
    }
   },
   "source": [
    "## Python basics\n",
    "\n",
    "- Python is an *interpreted* language (like R and Stata)\n",
    "- Every program is executed one *command* (aka *statement*) at a time\n",
    "- Which also means that work can be done interactively"
   ]
  },
  {
   "cell_type": "code",
   "execution_count": 1,
   "id": "c820215c",
   "metadata": {
    "slideshow": {
     "slide_type": "fragment"
    }
   },
   "outputs": [
    {
     "name": "stdout",
     "output_type": "stream",
     "text": [
      "Hello World!\n"
     ]
    }
   ],
   "source": [
    "print(\"Hello World!\")"
   ]
  },
  {
   "cell_type": "markdown",
   "id": "bc0d7576",
   "metadata": {
    "slideshow": {
     "slide_type": "slide"
    }
   },
   "source": [
    "## Python conceptual hierarchy\n",
    "\n",
    "Python programs can be decomposed into modules, statements, expressions, and objects, as follows:\n",
    "\n",
    "1. *Programs* are composed of *modules*\n",
    "2. *Modules* contain *statements*\n",
    "3. *Statements* contain *expressions*\n",
    "4. *Expressions* create and process *objects*"
   ]
  },
  {
   "cell_type": "markdown",
   "id": "db73e366",
   "metadata": {
    "slideshow": {
     "slide_type": "slide"
    }
   },
   "source": [
    "## Python objects\n",
    "\n",
    "- Everything that Python operates on is an *object*\n",
    "- This includes numbers, strings, data structures, functions, etc.\n",
    "- Eact object has a *type* (e.g. string or function) and internal data\n",
    "- Objects can be *mutable* (e.g. list) and *immutable* (e.g. string)"
   ]
  },
  {
   "cell_type": "markdown",
   "id": "629e5191",
   "metadata": {
    "slideshow": {
     "slide_type": "slide"
    }
   },
   "source": [
    "## Operators\n",
    "\n",
    "*Objects* and *operators* are combined to form *expressions*. Key *operators* are:\n",
    "\n",
    "- Arithmetic (`+`, `-`, `*`, `**`, `/`, `//`, `%`)\n",
    "- Boolean (`and`, `or`, `not`)\n",
    "- Relational (`==`, `!=`, `>`, `>=`, `<`, `<=`)\n",
    "- Assignment (`=`, `+=`, `-=`, `*=`, `/=`)\n",
    "- Membership (`in`)"
   ]
  },
  {
   "cell_type": "markdown",
   "id": "6ae77edb",
   "metadata": {
    "slideshow": {
     "slide_type": "slide"
    }
   },
   "source": [
    "## Basic mathematical operations in Python"
   ]
  },
  {
   "cell_type": "code",
   "execution_count": 2,
   "id": "c69ff236",
   "metadata": {
    "slideshow": {
     "slide_type": "fragment"
    }
   },
   "outputs": [
    {
     "data": {
      "text/plain": [
       "2"
      ]
     },
     "execution_count": 2,
     "metadata": {},
     "output_type": "execute_result"
    }
   ],
   "source": [
    "1 + 1"
   ]
  },
  {
   "cell_type": "code",
   "execution_count": 3,
   "id": "a68bd886",
   "metadata": {
    "slideshow": {
     "slide_type": "fragment"
    }
   },
   "outputs": [
    {
     "data": {
      "text/plain": [
       "2"
      ]
     },
     "execution_count": 3,
     "metadata": {},
     "output_type": "execute_result"
    }
   ],
   "source": [
    "5 - 3"
   ]
  },
  {
   "cell_type": "code",
   "execution_count": 4,
   "id": "24d1b6c1",
   "metadata": {
    "slideshow": {
     "slide_type": "fragment"
    }
   },
   "outputs": [
    {
     "data": {
      "text/plain": [
       "3.0"
      ]
     },
     "execution_count": 4,
     "metadata": {},
     "output_type": "execute_result"
    }
   ],
   "source": [
    "6 / 2"
   ]
  },
  {
   "cell_type": "code",
   "execution_count": 5,
   "id": "c0081979",
   "metadata": {
    "slideshow": {
     "slide_type": "fragment"
    }
   },
   "outputs": [
    {
     "data": {
      "text/plain": [
       "16"
      ]
     },
     "execution_count": 5,
     "metadata": {},
     "output_type": "execute_result"
    }
   ],
   "source": [
    "4 * 4"
   ]
  },
  {
   "cell_type": "code",
   "execution_count": 6,
   "id": "cadb8e19",
   "metadata": {
    "slideshow": {
     "slide_type": "fragment"
    }
   },
   "outputs": [
    {
     "data": {
      "text/plain": [
       "16"
      ]
     },
     "execution_count": 6,
     "metadata": {},
     "output_type": "execute_result"
    }
   ],
   "source": [
    "# Exponentiation <- Python comments start with #\n",
    "2 ** 4"
   ]
  },
  {
   "cell_type": "markdown",
   "id": "7d277149",
   "metadata": {
    "slideshow": {
     "slide_type": "slide"
    }
   },
   "source": [
    "## Basic logical operations in Python"
   ]
  },
  {
   "cell_type": "code",
   "execution_count": 7,
   "id": "1ef4ab61",
   "metadata": {
    "slideshow": {
     "slide_type": "fragment"
    }
   },
   "outputs": [
    {
     "data": {
      "text/plain": [
       "True"
      ]
     },
     "execution_count": 7,
     "metadata": {},
     "output_type": "execute_result"
    }
   ],
   "source": [
    "3 != 1 # Not equal"
   ]
  },
  {
   "cell_type": "code",
   "execution_count": 8,
   "id": "5729777f",
   "metadata": {
    "slideshow": {
     "slide_type": "fragment"
    }
   },
   "outputs": [
    {
     "data": {
      "text/plain": [
       "False"
      ]
     },
     "execution_count": 8,
     "metadata": {},
     "output_type": "execute_result"
    }
   ],
   "source": [
    "3 > 3 # Greater than"
   ]
  },
  {
   "cell_type": "code",
   "execution_count": 9,
   "id": "c4b1759c",
   "metadata": {
    "slideshow": {
     "slide_type": "fragment"
    }
   },
   "outputs": [
    {
     "data": {
      "text/plain": [
       "True"
      ]
     },
     "execution_count": 9,
     "metadata": {},
     "output_type": "execute_result"
    }
   ],
   "source": [
    "3 >= 3 # Greater than or equal"
   ]
  },
  {
   "cell_type": "code",
   "execution_count": 10,
   "id": "4ae52d5d",
   "metadata": {
    "slideshow": {
     "slide_type": "fragment"
    }
   },
   "outputs": [
    {
     "data": {
      "text/plain": [
       "True"
      ]
     },
     "execution_count": 10,
     "metadata": {},
     "output_type": "execute_result"
    }
   ],
   "source": [
    "False or True # True if either first or second operand is True, False otherwise"
   ]
  },
  {
   "cell_type": "code",
   "execution_count": 11,
   "id": "a9f64b3b",
   "metadata": {
    "slideshow": {
     "slide_type": "fragment"
    }
   },
   "outputs": [
    {
     "data": {
      "text/plain": [
       "True"
      ]
     },
     "execution_count": 11,
     "metadata": {},
     "output_type": "execute_result"
    }
   ],
   "source": [
    "3 > 3 or 3 >= 3 # Combining 3 Boolean expressions"
   ]
  },
  {
   "cell_type": "markdown",
   "id": "7a8c9144",
   "metadata": {
    "slideshow": {
     "slide_type": "slide"
    }
   },
   "source": [
    "## Assignment operations\n",
    "\n",
    "Assignments create object references. *Target* (or *name*) on the left is assigned to *object* on the rigth."
   ]
  },
  {
   "cell_type": "code",
   "execution_count": 12,
   "id": "d0cf159c",
   "metadata": {
    "slideshow": {
     "slide_type": "fragment"
    }
   },
   "outputs": [],
   "source": [
    "x = 3"
   ]
  },
  {
   "cell_type": "code",
   "execution_count": 13,
   "id": "63d11cc0",
   "metadata": {
    "slideshow": {
     "slide_type": "fragment"
    }
   },
   "outputs": [
    {
     "data": {
      "text/plain": [
       "3"
      ]
     },
     "execution_count": 13,
     "metadata": {},
     "output_type": "execute_result"
    }
   ],
   "source": [
    "x"
   ]
  },
  {
   "cell_type": "code",
   "execution_count": 14,
   "id": "c5aaffd6",
   "metadata": {
    "slideshow": {
     "slide_type": "fragment"
    }
   },
   "outputs": [],
   "source": [
    "x += 2 # Increment assignment, equivalent to x = x + 2"
   ]
  },
  {
   "cell_type": "code",
   "execution_count": 15,
   "id": "384f5de8",
   "metadata": {
    "slideshow": {
     "slide_type": "fragment"
    }
   },
   "outputs": [
    {
     "data": {
      "text/plain": [
       "5"
      ]
     },
     "execution_count": 15,
     "metadata": {},
     "output_type": "execute_result"
    }
   ],
   "source": [
    "x"
   ]
  },
  {
   "cell_type": "markdown",
   "id": "26f0a2b7",
   "metadata": {
    "slideshow": {
     "slide_type": "slide"
    }
   },
   "source": [
    "## Assignment vs Comparison Operators\n",
    "\n",
    "As `=` (assignment) and `==` (equality comparison) operators appear very similar, they sometime can create confusion."
   ]
  },
  {
   "cell_type": "code",
   "execution_count": 16,
   "id": "772ac169",
   "metadata": {
    "slideshow": {
     "slide_type": "fragment"
    }
   },
   "outputs": [],
   "source": [
    "x = 3"
   ]
  },
  {
   "cell_type": "code",
   "execution_count": 17,
   "id": "2fab627f",
   "metadata": {
    "slideshow": {
     "slide_type": "fragment"
    }
   },
   "outputs": [
    {
     "data": {
      "text/plain": [
       "3"
      ]
     },
     "execution_count": 17,
     "metadata": {},
     "output_type": "execute_result"
    }
   ],
   "source": [
    "x"
   ]
  },
  {
   "cell_type": "code",
   "execution_count": 18,
   "id": "d151b50f",
   "metadata": {
    "slideshow": {
     "slide_type": "fragment"
    }
   },
   "outputs": [
    {
     "data": {
      "text/plain": [
       "True"
      ]
     },
     "execution_count": 18,
     "metadata": {},
     "output_type": "execute_result"
    }
   ],
   "source": [
    "x == 3"
   ]
  },
  {
   "cell_type": "markdown",
   "id": "41bbc6a3",
   "metadata": {
    "slideshow": {
     "slide_type": "slide"
    }
   },
   "source": [
    "## Membership operations\n",
    "\n",
    "Operator `in` returns `True` if an object of the left side is in a sequence on the right."
   ]
  },
  {
   "cell_type": "code",
   "execution_count": 19,
   "id": "931b8582",
   "metadata": {
    "slideshow": {
     "slide_type": "fragment"
    }
   },
   "outputs": [
    {
     "data": {
      "text/plain": [
       "True"
      ]
     },
     "execution_count": 19,
     "metadata": {},
     "output_type": "execute_result"
    }
   ],
   "source": [
    "'a' in 'abc'"
   ]
  },
  {
   "cell_type": "code",
   "execution_count": 20,
   "id": "05da4420",
   "metadata": {
    "slideshow": {
     "slide_type": "fragment"
    }
   },
   "outputs": [
    {
     "data": {
      "text/plain": [
       "False"
      ]
     },
     "execution_count": 20,
     "metadata": {},
     "output_type": "execute_result"
    }
   ],
   "source": [
    "4 in [1, 2, 3] # [1,2,3] is a list"
   ]
  },
  {
   "cell_type": "code",
   "execution_count": 21,
   "id": "bb4444ae",
   "metadata": {
    "slideshow": {
     "slide_type": "fragment"
    }
   },
   "outputs": [
    {
     "data": {
      "text/plain": [
       "True"
      ]
     },
     "execution_count": 21,
     "metadata": {},
     "output_type": "execute_result"
    }
   ],
   "source": [
    "4 not in [1, 2, 3]"
   ]
  },
  {
   "cell_type": "markdown",
   "id": "7c78e4e4",
   "metadata": {
    "slideshow": {
     "slide_type": "slide"
    }
   },
   "source": [
    "## Object types\n",
    "\n",
    "Python objects can have *scalar* and *non-scalar* types. Scalar objects are indivisible.\n",
    "\n",
    "4 main types of scalar objects in Python:\n",
    "\n",
    "- Integer (`int`)\n",
    "- Real number (`float`)\n",
    "- Boolean (`bool`)\n",
    "- Null value (`None`)"
   ]
  },
  {
   "cell_type": "markdown",
   "id": "fd3c5cb1",
   "metadata": {
    "slideshow": {
     "slide_type": "slide"
    }
   },
   "source": [
    "## Scalar types"
   ]
  },
  {
   "cell_type": "code",
   "execution_count": 22,
   "id": "5cd79f58",
   "metadata": {
    "slideshow": {
     "slide_type": "fragment"
    }
   },
   "outputs": [
    {
     "data": {
      "text/plain": [
       "int"
      ]
     },
     "execution_count": 22,
     "metadata": {},
     "output_type": "execute_result"
    }
   ],
   "source": [
    "type(7)"
   ]
  },
  {
   "cell_type": "code",
   "execution_count": 23,
   "id": "84da00f8",
   "metadata": {
    "slideshow": {
     "slide_type": "fragment"
    }
   },
   "outputs": [
    {
     "data": {
      "text/plain": [
       "float"
      ]
     },
     "execution_count": 23,
     "metadata": {},
     "output_type": "execute_result"
    }
   ],
   "source": [
    "type(3.14)"
   ]
  },
  {
   "cell_type": "code",
   "execution_count": 24,
   "id": "4c681f31",
   "metadata": {
    "slideshow": {
     "slide_type": "fragment"
    }
   },
   "outputs": [
    {
     "data": {
      "text/plain": [
       "bool"
      ]
     },
     "execution_count": 24,
     "metadata": {},
     "output_type": "execute_result"
    }
   ],
   "source": [
    "type(True)"
   ]
  },
  {
   "cell_type": "code",
   "execution_count": 25,
   "id": "9d03cd1c",
   "metadata": {
    "slideshow": {
     "slide_type": "fragment"
    }
   },
   "outputs": [
    {
     "data": {
      "text/plain": [
       "NoneType"
      ]
     },
     "execution_count": 25,
     "metadata": {},
     "output_type": "execute_result"
    }
   ],
   "source": [
    "type(None)"
   ]
  },
  {
   "cell_type": "code",
   "execution_count": 26,
   "id": "f8939b8c",
   "metadata": {
    "slideshow": {
     "slide_type": "fragment"
    }
   },
   "outputs": [
    {
     "data": {
      "text/plain": [
       "3"
      ]
     },
     "execution_count": 26,
     "metadata": {},
     "output_type": "execute_result"
    }
   ],
   "source": [
    "int(3.14) # Scalar type conversion (casting)"
   ]
  },
  {
   "cell_type": "markdown",
   "id": "aab75f0f",
   "metadata": {
    "slideshow": {
     "slide_type": "slide"
    }
   },
   "source": [
    "## Non-scalar types\n",
    "\n",
    "In contrast to scalars, non-scalar objects, *sequences*, have some internal structure. This allows indexing, slicing and other interesting operations.\n",
    "\n",
    "Most common sequences in Python are:\n",
    "\n",
    "- String (`str`) - *immutable* ordered sequence of characters\n",
    "- Tuple (`tuple`) - *immutable* ordered sequence of elements\n",
    "- List (`list`) - *mutable* ordered sequence of elements\n",
    "- Set (`set`) - *mutable* unordered collection of unique elements\n",
    "- Dictionary (`dict`) - *mutable* unordered collection of key-value pairs"
   ]
  },
  {
   "cell_type": "markdown",
   "id": "307853a1",
   "metadata": {
    "slideshow": {
     "slide_type": "slide"
    }
   },
   "source": [
    "## Examples of non-scalar types"
   ]
  },
  {
   "cell_type": "code",
   "execution_count": 27,
   "id": "984f6219",
   "metadata": {
    "slideshow": {
     "slide_type": "fragment"
    }
   },
   "outputs": [],
   "source": [
    "s = 'time flies like a banana'\n",
    "t = (0, 'one', 1, 2)\n",
    "l = [0, 'one', 1, 2]\n",
    "o = {'apple', 'banana', 'watermelon'}\n",
    "d = {'apple': 150.0, 'banana': 120.0, 'watermelon': 3000.0}"
   ]
  },
  {
   "cell_type": "code",
   "execution_count": 28,
   "id": "fbed539d",
   "metadata": {
    "slideshow": {
     "slide_type": "fragment"
    }
   },
   "outputs": [
    {
     "data": {
      "text/plain": [
       "str"
      ]
     },
     "execution_count": 28,
     "metadata": {},
     "output_type": "execute_result"
    }
   ],
   "source": [
    "type(s)"
   ]
  },
  {
   "cell_type": "code",
   "execution_count": 29,
   "id": "ac30704a",
   "metadata": {
    "slideshow": {
     "slide_type": "fragment"
    }
   },
   "outputs": [
    {
     "data": {
      "text/plain": [
       "tuple"
      ]
     },
     "execution_count": 29,
     "metadata": {},
     "output_type": "execute_result"
    }
   ],
   "source": [
    "type(t)"
   ]
  },
  {
   "cell_type": "code",
   "execution_count": 30,
   "id": "44e12a1b",
   "metadata": {
    "slideshow": {
     "slide_type": "fragment"
    }
   },
   "outputs": [
    {
     "data": {
      "text/plain": [
       "list"
      ]
     },
     "execution_count": 30,
     "metadata": {},
     "output_type": "execute_result"
    }
   ],
   "source": [
    "type(l)"
   ]
  },
  {
   "cell_type": "code",
   "execution_count": 31,
   "id": "756f9ab5",
   "metadata": {
    "slideshow": {
     "slide_type": "fragment"
    }
   },
   "outputs": [
    {
     "data": {
      "text/plain": [
       "set"
      ]
     },
     "execution_count": 31,
     "metadata": {},
     "output_type": "execute_result"
    }
   ],
   "source": [
    "type(o)"
   ]
  },
  {
   "cell_type": "code",
   "execution_count": 32,
   "id": "013fa53a",
   "metadata": {
    "slideshow": {
     "slide_type": "fragment"
    }
   },
   "outputs": [
    {
     "data": {
      "text/plain": [
       "dict"
      ]
     },
     "execution_count": 32,
     "metadata": {},
     "output_type": "execute_result"
    }
   ],
   "source": [
    "type(d)"
   ]
  },
  {
   "cell_type": "markdown",
   "id": "8896b49e",
   "metadata": {
    "slideshow": {
     "slide_type": "slide"
    }
   },
   "source": [
    "## Indexing in Python starts from 0\n",
    "\n",
    "<div style=\"text-align: center;\">\n",
    "    <img width=\"600\" height=\"400\" src=\"../imgs/xkcd_163.png\">\n",
    "</div>\n",
    "\n",
    "Source: [xkcd](https://xkcd.com/163/)"
   ]
  },
  {
   "cell_type": "markdown",
   "id": "c9884463",
   "metadata": {
    "slideshow": {
     "slide_type": "slide"
    }
   },
   "source": [
    "## Strings"
   ]
  },
  {
   "cell_type": "code",
   "execution_count": 33,
   "id": "94c1288a",
   "metadata": {
    "slideshow": {
     "slide_type": "fragment"
    }
   },
   "outputs": [
    {
     "data": {
      "text/plain": [
       "'time flies like a banana'"
      ]
     },
     "execution_count": 33,
     "metadata": {},
     "output_type": "execute_result"
    }
   ],
   "source": [
    "s"
   ]
  },
  {
   "cell_type": "code",
   "execution_count": 34,
   "id": "23f98696",
   "metadata": {
    "slideshow": {
     "slide_type": "fragment"
    }
   },
   "outputs": [
    {
     "data": {
      "text/plain": [
       "24"
      ]
     },
     "execution_count": 34,
     "metadata": {},
     "output_type": "execute_result"
    }
   ],
   "source": [
    "len(s) # length of string (including whitespaces)"
   ]
  },
  {
   "cell_type": "code",
   "execution_count": 35,
   "id": "cc16d2c4",
   "metadata": {
    "slideshow": {
     "slide_type": "fragment"
    }
   },
   "outputs": [
    {
     "data": {
      "text/plain": [
       "'t'"
      ]
     },
     "execution_count": 35,
     "metadata": {},
     "output_type": "execute_result"
    }
   ],
   "source": [
    "s[0] # Subset 1st element (indexing in Python starts from zero!)"
   ]
  },
  {
   "cell_type": "code",
   "execution_count": 36,
   "id": "1609c8c9",
   "metadata": {
    "slideshow": {
     "slide_type": "fragment"
    }
   },
   "outputs": [
    {
     "data": {
      "text/plain": [
       "'flies like a banana'"
      ]
     },
     "execution_count": 36,
     "metadata": {},
     "output_type": "execute_result"
    }
   ],
   "source": [
    "s[5:] # Subset all elements starting from 6th"
   ]
  },
  {
   "cell_type": "code",
   "execution_count": 37,
   "id": "220ac590",
   "metadata": {
    "slideshow": {
     "slide_type": "fragment"
    }
   },
   "outputs": [
    {
     "data": {
      "text/plain": [
       "'time flies like a banana!'"
      ]
     },
     "execution_count": 37,
     "metadata": {},
     "output_type": "execute_result"
    }
   ],
   "source": [
    "s + '!' # Strings can be concatenated together"
   ]
  },
  {
   "cell_type": "markdown",
   "id": "11f02493",
   "metadata": {
    "slideshow": {
     "slide_type": "slide"
    }
   },
   "source": [
    "## Objects have methods\n",
    "\n",
    "- Python objects of built-in types have *methods* associated with them\n",
    "- They can be thought of function-like objects\n",
    "- However, their syntax is `object.method()` as opposed to `function(object)`"
   ]
  },
  {
   "cell_type": "code",
   "execution_count": 38,
   "id": "f06d91df",
   "metadata": {
    "slideshow": {
     "slide_type": "fragment"
    }
   },
   "outputs": [
    {
     "data": {
      "text/plain": [
       "24"
      ]
     },
     "execution_count": 38,
     "metadata": {},
     "output_type": "execute_result"
    }
   ],
   "source": [
    "len(s) # Function"
   ]
  },
  {
   "cell_type": "code",
   "execution_count": 39,
   "id": "46350ae5",
   "metadata": {
    "slideshow": {
     "slide_type": "fragment"
    }
   },
   "outputs": [
    {
     "data": {
      "text/plain": [
       "'TIME FLIES LIKE A BANANA'"
      ]
     },
     "execution_count": 39,
     "metadata": {},
     "output_type": "execute_result"
    }
   ],
   "source": [
    "s.upper() # Method (makes string upper-case)"
   ]
  },
  {
   "cell_type": "markdown",
   "id": "2ce4bfa2",
   "metadata": {
    "slideshow": {
     "slide_type": "slide"
    }
   },
   "source": [
    "## String methods\n",
    "\n",
    "Some examples of methods associated with strings. More details [here](https://docs.python.org/3/library/stdtypes.html#string-methods)."
   ]
  },
  {
   "cell_type": "code",
   "execution_count": 40,
   "id": "f4fa2699",
   "metadata": {
    "slideshow": {
     "slide_type": "fragment"
    }
   },
   "outputs": [
    {
     "data": {
      "text/plain": [
       "'Time flies like a banana'"
      ]
     },
     "execution_count": 40,
     "metadata": {},
     "output_type": "execute_result"
    }
   ],
   "source": [
    "s.capitalize() # Note that only the first character gets capitalized"
   ]
  },
  {
   "cell_type": "code",
   "execution_count": 41,
   "id": "2d2f807c",
   "metadata": {
    "slideshow": {
     "slide_type": "fragment"
    }
   },
   "outputs": [
    {
     "data": {
      "text/plain": [
       "['time', 'flies', 'like', 'a', 'banana']"
      ]
     },
     "execution_count": 41,
     "metadata": {},
     "output_type": "execute_result"
    }
   ],
   "source": [
    "s.split(sep = ' ') # Here we supply an argument 'sep' to our methods call"
   ]
  },
  {
   "cell_type": "code",
   "execution_count": 42,
   "id": "6e671310",
   "metadata": {
    "slideshow": {
     "slide_type": "fragment"
    }
   },
   "outputs": [
    {
     "data": {
      "text/plain": [
       "'time-flies-like-a-banana'"
      ]
     },
     "execution_count": 42,
     "metadata": {},
     "output_type": "execute_result"
    }
   ],
   "source": [
    "s.replace(' ', '-') # Arguments can also be matched by position, not just name"
   ]
  },
  {
   "cell_type": "code",
   "execution_count": 43,
   "id": "6ae5523b",
   "metadata": {
    "slideshow": {
     "slide_type": "fragment"
    }
   },
   "outputs": [
    {
     "data": {
      "text/plain": [
       "'time-flies-like-a-banana'"
      ]
     },
     "execution_count": 43,
     "metadata": {},
     "output_type": "execute_result"
    }
   ],
   "source": [
    "'-'.join(s.split(sep = ' ')) # Methods calls can be nested within each other"
   ]
  },
  {
   "cell_type": "markdown",
   "id": "9ee44191",
   "metadata": {
    "slideshow": {
     "slide_type": "slide"
    }
   },
   "source": [
    "## Tuples"
   ]
  },
  {
   "cell_type": "code",
   "execution_count": 44,
   "id": "8c4fead2",
   "metadata": {
    "slideshow": {
     "slide_type": "fragment"
    }
   },
   "outputs": [
    {
     "data": {
      "text/plain": [
       "(0, 'one', 1, 2)"
      ]
     },
     "execution_count": 44,
     "metadata": {},
     "output_type": "execute_result"
    }
   ],
   "source": [
    "t # Tuples can contain elements of different types"
   ]
  },
  {
   "cell_type": "code",
   "execution_count": 45,
   "id": "e8199848",
   "metadata": {
    "slideshow": {
     "slide_type": "fragment"
    }
   },
   "outputs": [
    {
     "data": {
      "text/plain": [
       "4"
      ]
     },
     "execution_count": 45,
     "metadata": {},
     "output_type": "execute_result"
    }
   ],
   "source": [
    "len(t)"
   ]
  },
  {
   "cell_type": "code",
   "execution_count": 46,
   "id": "c79d4e94",
   "metadata": {
    "slideshow": {
     "slide_type": "fragment"
    }
   },
   "outputs": [
    {
     "data": {
      "text/plain": [
       "('one', 1, 2)"
      ]
     },
     "execution_count": 46,
     "metadata": {},
     "output_type": "execute_result"
    }
   ],
   "source": [
    "t[1:]"
   ]
  },
  {
   "cell_type": "code",
   "execution_count": 47,
   "id": "300847e2",
   "metadata": {
    "slideshow": {
     "slide_type": "fragment"
    }
   },
   "outputs": [
    {
     "data": {
      "text/plain": [
       "(0, 'one', 1, 2, 'three', 5)"
      ]
     },
     "execution_count": 47,
     "metadata": {},
     "output_type": "execute_result"
    }
   ],
   "source": [
    "t + ('three', 5) # Like strings tuples can be concatenated"
   ]
  },
  {
   "cell_type": "markdown",
   "id": "80f9e63b",
   "metadata": {
    "slideshow": {
     "slide_type": "slide"
    }
   },
   "source": [
    "## Lists"
   ]
  },
  {
   "cell_type": "code",
   "execution_count": 48,
   "id": "a1ff369a",
   "metadata": {
    "slideshow": {
     "slide_type": "fragment"
    }
   },
   "outputs": [
    {
     "data": {
      "text/plain": [
       "[0, 'one', 1, 2]"
      ]
     },
     "execution_count": 48,
     "metadata": {},
     "output_type": "execute_result"
    }
   ],
   "source": [
    "l # Like tuples lists can contain elements of different types"
   ]
  },
  {
   "cell_type": "code",
   "execution_count": 49,
   "id": "4b900d7e",
   "metadata": {
    "slideshow": {
     "slide_type": "fragment"
    }
   },
   "outputs": [],
   "source": [
    "l[1] = 1 # Unlike tuples lists are mutable"
   ]
  },
  {
   "cell_type": "code",
   "execution_count": 50,
   "id": "ff0bedc1",
   "metadata": {
    "slideshow": {
     "slide_type": "fragment"
    }
   },
   "outputs": [
    {
     "data": {
      "text/plain": [
       "[0, 1, 1, 2]"
      ]
     },
     "execution_count": 50,
     "metadata": {},
     "output_type": "execute_result"
    }
   ],
   "source": [
    "l"
   ]
  },
  {
   "cell_type": "code",
   "execution_count": 51,
   "id": "8f8c0aad",
   "metadata": {
    "slideshow": {
     "slide_type": "fragment"
    }
   },
   "outputs": [
    {
     "ename": "TypeError",
     "evalue": "'tuple' object does not support item assignment",
     "output_type": "error",
     "traceback": [
      "\u001b[0;31m---------------------------------------------------------------------------\u001b[0m",
      "\u001b[0;31mTypeError\u001b[0m                                 Traceback (most recent call last)",
      "\u001b[0;32m<ipython-input-51-4e4114da061e>\u001b[0m in \u001b[0;36m<module>\u001b[0;34m\u001b[0m\n\u001b[0;32m----> 1\u001b[0;31m \u001b[0mt\u001b[0m\u001b[0;34m[\u001b[0m\u001b[0;36m1\u001b[0m\u001b[0;34m]\u001b[0m \u001b[0;34m=\u001b[0m \u001b[0;36m1\u001b[0m \u001b[0;31m# Compare to tuple\u001b[0m\u001b[0;34m\u001b[0m\u001b[0;34m\u001b[0m\u001b[0m\n\u001b[0m",
      "\u001b[0;31mTypeError\u001b[0m: 'tuple' object does not support item assignment"
     ]
    }
   ],
   "source": [
    "t[1] = 1 # Compare to tuple"
   ]
  },
  {
   "cell_type": "markdown",
   "id": "76e29457",
   "metadata": {
    "slideshow": {
     "slide_type": "slide"
    }
   },
   "source": [
    "## More on subsetting"
   ]
  },
  {
   "cell_type": "code",
   "execution_count": 52,
   "id": "75ce4931",
   "metadata": {
    "slideshow": {
     "slide_type": "fragment"
    }
   },
   "outputs": [
    {
     "data": {
      "text/plain": [
       "[0, 1, 1, 2]"
      ]
     },
     "execution_count": 52,
     "metadata": {},
     "output_type": "execute_result"
    }
   ],
   "source": [
    "l"
   ]
  },
  {
   "cell_type": "code",
   "execution_count": 53,
   "id": "28b51134",
   "metadata": {
    "slideshow": {
     "slide_type": "fragment"
    }
   },
   "outputs": [
    {
     "data": {
      "text/plain": [
       "[1, 1, 2]"
      ]
     },
     "execution_count": 53,
     "metadata": {},
     "output_type": "execute_result"
    }
   ],
   "source": [
    "l[1:] # Subset all elements starting from 2nd"
   ]
  },
  {
   "cell_type": "code",
   "execution_count": 54,
   "id": "7ff8397a",
   "metadata": {
    "slideshow": {
     "slide_type": "fragment"
    }
   },
   "outputs": [
    {
     "data": {
      "text/plain": [
       "2"
      ]
     },
     "execution_count": 54,
     "metadata": {},
     "output_type": "execute_result"
    }
   ],
   "source": [
    "l[-1] # Subset the last element"
   ]
  },
  {
   "cell_type": "code",
   "execution_count": 55,
   "id": "990127ce",
   "metadata": {
    "slideshow": {
     "slide_type": "fragment"
    }
   },
   "outputs": [
    {
     "data": {
      "text/plain": [
       "[0, 1]"
      ]
     },
     "execution_count": 55,
     "metadata": {},
     "output_type": "execute_result"
    }
   ],
   "source": [
    "l[::2] # Subset every second element, list[start:stop:step]"
   ]
  },
  {
   "cell_type": "code",
   "execution_count": 56,
   "id": "4ea6ff0c",
   "metadata": {
    "slideshow": {
     "slide_type": "fragment"
    }
   },
   "outputs": [
    {
     "data": {
      "text/plain": [
       "[2, 1, 1, 0]"
      ]
     },
     "execution_count": 56,
     "metadata": {},
     "output_type": "execute_result"
    }
   ],
   "source": [
    "l[::-1] # Subset all elements in reverse order"
   ]
  },
  {
   "cell_type": "markdown",
   "id": "ff55f2e2",
   "metadata": {
    "slideshow": {
     "slide_type": "slide"
    }
   },
   "source": [
    "## Sets"
   ]
  },
  {
   "cell_type": "code",
   "execution_count": 57,
   "id": "754e7f71",
   "metadata": {
    "slideshow": {
     "slide_type": "fragment"
    }
   },
   "outputs": [
    {
     "data": {
      "text/plain": [
       "{'apple', 'banana', 'watermelon'}"
      ]
     },
     "execution_count": 57,
     "metadata": {},
     "output_type": "execute_result"
    }
   ],
   "source": [
    "o"
   ]
  },
  {
   "cell_type": "code",
   "execution_count": 58,
   "id": "8dcd3368",
   "metadata": {
    "slideshow": {
     "slide_type": "fragment"
    }
   },
   "outputs": [
    {
     "data": {
      "text/plain": [
       "{'apple', 'banana', 'watermelon'}"
      ]
     },
     "execution_count": 58,
     "metadata": {},
     "output_type": "execute_result"
    }
   ],
   "source": [
    "{'apple', 'apple', 'banana', 'watermelon'} # Sets retain only unique values"
   ]
  },
  {
   "cell_type": "code",
   "execution_count": 59,
   "id": "0b25880b",
   "metadata": {
    "slideshow": {
     "slide_type": "fragment"
    }
   },
   "outputs": [
    {
     "data": {
      "text/plain": [
       "True"
      ]
     },
     "execution_count": 59,
     "metadata": {},
     "output_type": "execute_result"
    }
   ],
   "source": [
    "{'apple'} < o # Sets can be compared (e.g. one being subset of another)"
   ]
  },
  {
   "cell_type": "code",
   "execution_count": 60,
   "id": "454a0988",
   "metadata": {
    "slideshow": {
     "slide_type": "fragment"
    }
   },
   "outputs": [
    {
     "ename": "TypeError",
     "evalue": "'set' object is not subscriptable",
     "output_type": "error",
     "traceback": [
      "\u001b[0;31m---------------------------------------------------------------------------\u001b[0m",
      "\u001b[0;31mTypeError\u001b[0m                                 Traceback (most recent call last)",
      "\u001b[0;32m<ipython-input-60-6a3d97725b65>\u001b[0m in \u001b[0;36m<module>\u001b[0;34m\u001b[0m\n\u001b[0;32m----> 1\u001b[0;31m \u001b[0mo\u001b[0m\u001b[0;34m[\u001b[0m\u001b[0;36m1\u001b[0m\u001b[0;34m]\u001b[0m \u001b[0;31m# Unlike strings, tuples and lists, sets are unordered\u001b[0m\u001b[0;34m\u001b[0m\u001b[0;34m\u001b[0m\u001b[0m\n\u001b[0m",
      "\u001b[0;31mTypeError\u001b[0m: 'set' object is not subscriptable"
     ]
    }
   ],
   "source": [
    "o[1] # Unlike strings, tuples and lists, sets are unordered"
   ]
  },
  {
   "cell_type": "markdown",
   "id": "01130fe3",
   "metadata": {
    "slideshow": {
     "slide_type": "slide"
    }
   },
   "source": [
    "## Set methods in Python\n",
    "\n",
    "<div style=\"text-align: center;\">\n",
    "    <img width=\"500\" height=\"300\" src=\"../imgs/venn_diagram_sets.png\">\n",
    "</div>"
   ]
  },
  {
   "cell_type": "markdown",
   "id": "8259aaa5",
   "metadata": {
    "slideshow": {
     "slide_type": "slide"
    }
   },
   "source": [
    "## Example of set methods\n",
    "\n",
    "<div style=\"text-align: center;\">\n",
    "    <img width=\"500\" height=\"300\" src=\"../imgs/europe_diagram.png\">\n",
    "</div>\n",
    "\n",
    "Source: [Wikipedia](https://en.wikipedia.org/w/index.php?title=File:Supranational_European_Bodies-en.svg)"
   ]
  },
  {
   "cell_type": "markdown",
   "id": "6a496acc",
   "metadata": {
    "slideshow": {
     "slide_type": "slide"
    }
   },
   "source": [
    "## Example of set methods (cont'd)"
   ]
  },
  {
   "cell_type": "code",
   "execution_count": 61,
   "id": "241927c8",
   "metadata": {
    "slideshow": {
     "slide_type": "fragment"
    }
   },
   "outputs": [],
   "source": [
    "nordic = {'Denmark', 'Iceland', 'Finland', 'Norway', 'Sweden'}\n",
    "eu = {'Denmark', 'Finland', 'Sweden'}\n",
    "krones = {'Denmark', 'Sweden'}"
   ]
  },
  {
   "cell_type": "code",
   "execution_count": 62,
   "id": "10351db8",
   "metadata": {
    "slideshow": {
     "slide_type": "fragment"
    }
   },
   "outputs": [
    {
     "data": {
      "text/plain": [
       "{'Finland'}"
      ]
     },
     "execution_count": 62,
     "metadata": {},
     "output_type": "execute_result"
    }
   ],
   "source": [
    "euro = eu.difference(krones) # Same can expressed using infix operators `eu - krones`\n",
    "euro"
   ]
  },
  {
   "cell_type": "code",
   "execution_count": 63,
   "id": "39f1c3c3",
   "metadata": {
    "slideshow": {
     "slide_type": "fragment"
    }
   },
   "outputs": [
    {
     "data": {
      "text/plain": [
       "{'Iceland', 'Liechtenstein', 'Norway', 'Switzerland'}"
      ]
     },
     "execution_count": 63,
     "metadata": {},
     "output_type": "execute_result"
    }
   ],
   "source": [
    "efta = nordic.difference(eu).union({'Liechtenstein', 'Switzerland'}) # Methods calls can also be 'chained'\n",
    "efta"
   ]
  },
  {
   "cell_type": "code",
   "execution_count": 64,
   "id": "a8a32369",
   "metadata": {
    "slideshow": {
     "slide_type": "fragment"
    }
   },
   "outputs": [
    {
     "data": {
      "text/plain": [
       "{'Iceland', 'Norway'}"
      ]
     },
     "execution_count": 64,
     "metadata": {},
     "output_type": "execute_result"
    }
   ],
   "source": [
    "efta.intersection(nordic) # efta & nordic"
   ]
  },
  {
   "cell_type": "code",
   "execution_count": 65,
   "id": "67cd13ae",
   "metadata": {
    "slideshow": {
     "slide_type": "fragment"
    }
   },
   "outputs": [
    {
     "data": {
      "text/plain": [
       "{'Denmark',\n",
       " 'Finland',\n",
       " 'Iceland',\n",
       " 'Liechtenstein',\n",
       " 'Norway',\n",
       " 'Sweden',\n",
       " 'Switzerland'}"
      ]
     },
     "execution_count": 65,
     "metadata": {},
     "output_type": "execute_result"
    }
   ],
   "source": [
    "schengen = efta.union(eu) # efta | eu\n",
    "schengen"
   ]
  },
  {
   "cell_type": "markdown",
   "id": "958e8074",
   "metadata": {
    "slideshow": {
     "slide_type": "slide"
    }
   },
   "source": [
    "## Dictionaries"
   ]
  },
  {
   "cell_type": "code",
   "execution_count": 66,
   "id": "b390570a",
   "metadata": {
    "slideshow": {
     "slide_type": "fragment"
    }
   },
   "outputs": [
    {
     "data": {
      "text/plain": [
       "{'apple': 150.0, 'banana': 120.0, 'watermelon': 3000.0}"
      ]
     },
     "execution_count": 66,
     "metadata": {},
     "output_type": "execute_result"
    }
   ],
   "source": [
    "d # key:value pair, fruit_name:average_weight"
   ]
  },
  {
   "cell_type": "code",
   "execution_count": 67,
   "id": "630dc7c7",
   "metadata": {
    "slideshow": {
     "slide_type": "fragment"
    }
   },
   "outputs": [
    {
     "data": {
      "text/plain": [
       "150.0"
      ]
     },
     "execution_count": 67,
     "metadata": {},
     "output_type": "execute_result"
    }
   ],
   "source": [
    "d['apple'] # Unlike strings, tuples and lists, dictionaries are indexed by 'keys'"
   ]
  },
  {
   "cell_type": "code",
   "execution_count": 68,
   "id": "d27ca124",
   "metadata": {
    "slideshow": {
     "slide_type": "fragment"
    }
   },
   "outputs": [
    {
     "ename": "KeyError",
     "evalue": "0",
     "output_type": "error",
     "traceback": [
      "\u001b[0;31m---------------------------------------------------------------------------\u001b[0m",
      "\u001b[0;31mKeyError\u001b[0m                                  Traceback (most recent call last)",
      "\u001b[0;32m<ipython-input-68-3cd4cfa8b308>\u001b[0m in \u001b[0;36m<module>\u001b[0;34m\u001b[0m\n\u001b[0;32m----> 1\u001b[0;31m \u001b[0md\u001b[0m\u001b[0;34m[\u001b[0m\u001b[0;36m0\u001b[0m\u001b[0;34m]\u001b[0m \u001b[0;31m# Rather than integers\u001b[0m\u001b[0;34m\u001b[0m\u001b[0;34m\u001b[0m\u001b[0m\n\u001b[0m",
      "\u001b[0;31mKeyError\u001b[0m: 0"
     ]
    }
   ],
   "source": [
    "d[0] # Rather than integers"
   ]
  },
  {
   "cell_type": "code",
   "execution_count": 69,
   "id": "455375bb",
   "metadata": {
    "slideshow": {
     "slide_type": "fragment"
    }
   },
   "outputs": [
    {
     "data": {
      "text/plain": [
       "{'apple': 150.0, 'banana': 120.0, 'watermelon': 3000.0, 'strawberry': 12.0}"
      ]
     },
     "execution_count": 69,
     "metadata": {},
     "output_type": "execute_result"
    }
   ],
   "source": [
    "d['strawberry'] = 12.0 # They are, however, mutable like lists and sets\n",
    "d"
   ]
  },
  {
   "cell_type": "markdown",
   "id": "7313251e",
   "metadata": {
    "slideshow": {
     "slide_type": "slide"
    }
   },
   "source": [
    "## Conversion between non-scalar types"
   ]
  },
  {
   "cell_type": "code",
   "execution_count": 70,
   "id": "4faa5926",
   "metadata": {
    "slideshow": {
     "slide_type": "fragment"
    }
   },
   "outputs": [
    {
     "data": {
      "text/plain": [
       "(0, 'one', 1, 2)"
      ]
     },
     "execution_count": 70,
     "metadata": {},
     "output_type": "execute_result"
    }
   ],
   "source": [
    "t ## Tuple"
   ]
  },
  {
   "cell_type": "code",
   "execution_count": 71,
   "id": "e3f20e8a",
   "metadata": {
    "slideshow": {
     "slide_type": "fragment"
    }
   },
   "outputs": [
    {
     "data": {
      "text/plain": [
       "[0, 'one', 1, 2]"
      ]
     },
     "execution_count": 71,
     "metadata": {},
     "output_type": "execute_result"
    }
   ],
   "source": [
    "list(t) ## Convert to list with a `list` function"
   ]
  },
  {
   "cell_type": "code",
   "execution_count": 72,
   "id": "13a85583",
   "metadata": {
    "slideshow": {
     "slide_type": "fragment"
    }
   },
   "outputs": [
    {
     "data": {
      "text/plain": [
       "[0, 'one', 1, 2]"
      ]
     },
     "execution_count": 72,
     "metadata": {},
     "output_type": "execute_result"
    }
   ],
   "source": [
    "[x for x in t] ## List comprehesion, [expr for elem in iterable if test]"
   ]
  },
  {
   "cell_type": "code",
   "execution_count": 73,
   "id": "1f7542df",
   "metadata": {
    "slideshow": {
     "slide_type": "fragment"
    }
   },
   "outputs": [
    {
     "data": {
      "text/plain": [
       "{0, 1, 2}"
      ]
     },
     "execution_count": 73,
     "metadata": {},
     "output_type": "execute_result"
    }
   ],
   "source": [
    "set([0, 1, 1, 2]) ## Conversion to set retains only unique values"
   ]
  },
  {
   "cell_type": "markdown",
   "id": "7e5b47b5",
   "metadata": {
    "slideshow": {
     "slide_type": "slide"
    }
   },
   "source": [
    "## Aliasing vs copying in Python\n",
    "\n",
    "- Assignment binds the varible name on the left of `=` sign to the object of certain type on the right.\n",
    "- But the same object can have different names.\n",
    "- Operations on immutable types typically overwrite the object if it gets modified.\n",
    "- But for mutable objects (lists, sets, dictionaries) this can create hard-to-track problems."
   ]
  },
  {
   "cell_type": "markdown",
   "id": "b68c5b93",
   "metadata": {
    "slideshow": {
     "slide_type": "slide"
    }
   },
   "source": [
    "## Example of aliasing/copying for immutable types"
   ]
  },
  {
   "cell_type": "code",
   "execution_count": 74,
   "id": "9e57a4f0",
   "metadata": {
    "slideshow": {
     "slide_type": "fragment"
    }
   },
   "outputs": [
    {
     "data": {
      "text/plain": [
       "'test'"
      ]
     },
     "execution_count": 74,
     "metadata": {},
     "output_type": "execute_result"
    }
   ],
   "source": [
    "x = 'test' # Object of type string is assinged to variable 'x'\n",
    "x"
   ]
  },
  {
   "cell_type": "code",
   "execution_count": 75,
   "id": "c2298250",
   "metadata": {
    "slideshow": {
     "slide_type": "fragment"
    }
   },
   "outputs": [
    {
     "data": {
      "text/plain": [
       "'test'"
      ]
     },
     "execution_count": 75,
     "metadata": {},
     "output_type": "execute_result"
    }
   ],
   "source": [
    "y = x # y is created an alias (alternative name) of x\n",
    "y"
   ]
  },
  {
   "cell_type": "code",
   "execution_count": 76,
   "id": "6b2e6ef2",
   "metadata": {
    "slideshow": {
     "slide_type": "fragment"
    }
   },
   "outputs": [
    {
     "data": {
      "text/plain": [
       "'rest'"
      ]
     },
     "execution_count": 76,
     "metadata": {},
     "output_type": "execute_result"
    }
   ],
   "source": [
    "x = 'rest' # Another object of type string is assigned to 'x'\n",
    "x"
   ]
  },
  {
   "cell_type": "code",
   "execution_count": 77,
   "id": "661c9129",
   "metadata": {
    "slideshow": {
     "slide_type": "fragment"
    }
   },
   "outputs": [
    {
     "data": {
      "text/plain": [
       "'test'"
      ]
     },
     "execution_count": 77,
     "metadata": {},
     "output_type": "execute_result"
    }
   ],
   "source": [
    "y"
   ]
  },
  {
   "cell_type": "markdown",
   "id": "f3b9cdee",
   "metadata": {
    "slideshow": {
     "slide_type": "slide"
    }
   },
   "source": [
    "## Example of aliasing/copying for mutable types"
   ]
  },
  {
   "cell_type": "code",
   "execution_count": 78,
   "id": "22fffbf8",
   "metadata": {
    "slideshow": {
     "slide_type": "fragment"
    }
   },
   "outputs": [
    {
     "data": {
      "text/plain": [
       "{'apple': 150.0, 'banana': 120.0, 'watermelon': 3000.0, 'strawberry': 12.0}"
      ]
     },
     "execution_count": 78,
     "metadata": {},
     "output_type": "execute_result"
    }
   ],
   "source": [
    "d"
   ]
  },
  {
   "cell_type": "code",
   "execution_count": 79,
   "id": "4bd9436a",
   "metadata": {
    "slideshow": {
     "slide_type": "fragment"
    }
   },
   "outputs": [],
   "source": [
    "d1 = d # Just an alias\n",
    "d2 = d.copy() # Create a copy\n",
    "d['watermelon'] = 500 # Modify original dictionary"
   ]
  },
  {
   "cell_type": "code",
   "execution_count": 80,
   "id": "59f9a94d",
   "metadata": {
    "slideshow": {
     "slide_type": "fragment"
    }
   },
   "outputs": [
    {
     "data": {
      "text/plain": [
       "{'apple': 150.0, 'banana': 120.0, 'watermelon': 500, 'strawberry': 12.0}"
      ]
     },
     "execution_count": 80,
     "metadata": {},
     "output_type": "execute_result"
    }
   ],
   "source": [
    "d1"
   ]
  },
  {
   "cell_type": "code",
   "execution_count": 81,
   "id": "e42995fc",
   "metadata": {
    "slideshow": {
     "slide_type": "fragment"
    }
   },
   "outputs": [
    {
     "data": {
      "text/plain": [
       "{'apple': 150.0, 'banana': 120.0, 'watermelon': 3000.0, 'strawberry': 12.0}"
      ]
     },
     "execution_count": 81,
     "metadata": {},
     "output_type": "execute_result"
    }
   ],
   "source": [
    "d2"
   ]
  },
  {
   "cell_type": "markdown",
   "id": "e13bf3f7",
   "metadata": {
    "slideshow": {
     "slide_type": "slide"
    }
   },
   "source": [
    "## Summary of built-in object types in Python\n",
    "\n",
    "|  Type   |  Description  |   Scalar   | Mutability |   Order   |\n",
    "| :-----: | :-----------: | :--------: | :--------: | :-------: |\n",
    "|  `int`  |    integer    |   scalar   | immutable  |           |\n",
    "| `float` |  real number  |   scalar   | immutable  |           |\n",
    "| `bool`  |    Boolean    |   scalar   | immutable  |           |\n",
    "| `None`  | Python 'Null' |   scalar   | immutable  |           |\n",
    "|  `str`  |    string     | non-scalar | immutable  |  ordered  |\n",
    "| `tuple` |     tuple     | non-scalar | immutable  |  ordered  |\n",
    "| `list`  |     list      | non-scalar |  mutable   |  ordered  |\n",
    "|  `set`  |      set      | non-scalar |  mutable   | unordered |\n",
    "| `dict`  |  dictionary   | non-scalar |  mutable   | unordered |\n",
    "\n",
    "Extra: [Extensive documentation on built-it types](https://docs.python.org/3/library/stdtypes.html)"
   ]
  },
  {
   "cell_type": "markdown",
   "id": "9d70384e",
   "metadata": {
    "slideshow": {
     "slide_type": "slide"
    }
   },
   "source": [
    "## Modules\n",
    "\n",
    "- Python's power lies in its extensibility\n",
    "- This is usually achieved by loading additional modules (libraries)\n",
    "- Module can be just a `.py` file that you import into your program (script)\n",
    "- However, often this refers to external libraries installed using `pip` or `conda`\n",
    "- Standard Python installation also includes a number of modules (full list [here](https://docs.python.org/3/library/index.html))"
   ]
  },
  {
   "cell_type": "markdown",
   "id": "633af94b",
   "metadata": {
    "slideshow": {
     "slide_type": "slide"
    }
   },
   "source": [
    "## Basic statistical operations"
   ]
  },
  {
   "cell_type": "code",
   "execution_count": 82,
   "id": "b8f705b0",
   "metadata": {
    "slideshow": {
     "slide_type": "fragment"
    }
   },
   "outputs": [],
   "source": [
    "import statistics # Standard Python module\n",
    "fib = [0, 1, 1, 2, 3, 5]"
   ]
  },
  {
   "cell_type": "code",
   "execution_count": 83,
   "id": "563297e7",
   "metadata": {
    "slideshow": {
     "slide_type": "fragment"
    }
   },
   "outputs": [
    {
     "data": {
      "text/plain": [
       "2"
      ]
     },
     "execution_count": 83,
     "metadata": {},
     "output_type": "execute_result"
    }
   ],
   "source": [
    "statistics.mean(fib) # Mean"
   ]
  },
  {
   "cell_type": "code",
   "execution_count": 84,
   "id": "e782aa9f",
   "metadata": {
    "slideshow": {
     "slide_type": "fragment"
    }
   },
   "outputs": [
    {
     "data": {
      "text/plain": [
       "1.5"
      ]
     },
     "execution_count": 84,
     "metadata": {},
     "output_type": "execute_result"
    }
   ],
   "source": [
    "statistics.median(fib) # Median"
   ]
  },
  {
   "cell_type": "code",
   "execution_count": 85,
   "id": "d872a56b",
   "metadata": {
    "slideshow": {
     "slide_type": "fragment"
    }
   },
   "outputs": [
    {
     "data": {
      "text/plain": [
       "1"
      ]
     },
     "execution_count": 85,
     "metadata": {},
     "output_type": "execute_result"
    }
   ],
   "source": [
    "statistics.mode(fib) # Mode"
   ]
  },
  {
   "cell_type": "code",
   "execution_count": 86,
   "id": "710ef23e",
   "metadata": {
    "slideshow": {
     "slide_type": "fragment"
    }
   },
   "outputs": [
    {
     "data": {
      "text/plain": [
       "1.7888543819998317"
      ]
     },
     "execution_count": 86,
     "metadata": {},
     "output_type": "execute_result"
    }
   ],
   "source": [
    "statistics.stdev(fib) # Standard deviation"
   ]
  },
  {
   "cell_type": "markdown",
   "id": "7aff3125",
   "metadata": {
    "slideshow": {
     "slide_type": "slide"
    }
   },
   "source": [
    "## Help!\n",
    "\n",
    "Python has an inbuilt help facility which provides more information about any object:"
   ]
  },
  {
   "cell_type": "code",
   "execution_count": 87,
   "id": "7541d75a",
   "metadata": {
    "slideshow": {
     "slide_type": "fragment"
    }
   },
   "outputs": [],
   "source": [
    "?s"
   ]
  },
  {
   "cell_type": "code",
   "execution_count": 88,
   "id": "7a731b12",
   "metadata": {
    "slideshow": {
     "slide_type": "fragment"
    }
   },
   "outputs": [
    {
     "name": "stdout",
     "output_type": "stream",
     "text": [
      "Help on built-in function join:\n",
      "\n",
      "join(iterable, /) method of builtins.str instance\n",
      "    Concatenate any number of strings.\n",
      "    \n",
      "    The string whose method is called is inserted in between each given string.\n",
      "    The result is returned as a new string.\n",
      "    \n",
      "    Example: '.'.join(['ab', 'pq', 'rs']) -> 'ab.pq.rs'\n",
      "\n"
     ]
    }
   ],
   "source": [
    "help(s.join)"
   ]
  },
  {
   "cell_type": "markdown",
   "id": "105ce008",
   "metadata": {
    "slideshow": {
     "slide_type": "fragment"
    }
   },
   "source": [
    "- The quality of the documentation varies hugely across libraries\n",
    "- [Stackoverflow](https://stackoverflow.com/) is a good resource for many standard tasks\n",
    "- For custom packages it is often helpful to check the **issues** page on the [GitHub](https://github.com/)\n",
    "- E.g. for `pandas`: [https://github.com/pandas-dev/pandas/issues](https://github.com/pandas-dev/pandas/issues)\n",
    "- Or, indeed, any search engine [#LMDDGTFY](https://lmddgtfy.net/)"
   ]
  },
  {
   "cell_type": "markdown",
   "id": "279a97c5",
   "metadata": {
    "slideshow": {
     "slide_type": "slide"
    }
   },
   "source": [
    "## Next\n",
    "\n",
    "- Tutorial: Python objects, types, basic operations and methods\n",
    "- Assignment 1: Due at 11:00 on Monday, 27th September (submission on Blackboard)\n",
    "- Next week: Control flow in Python\n"
   ]
  }
 ],
 "metadata": {
  "celltoolbar": "Slideshow",
  "kernelspec": {
   "display_name": "Python 3 (ipykernel)",
   "language": "python",
   "name": "python3"
  },
  "language_info": {
   "codemirror_mode": {
    "name": "ipython",
    "version": 3
   },
   "file_extension": ".py",
   "mimetype": "text/x-python",
   "name": "python",
   "nbconvert_exporter": "python",
   "pygments_lexer": "ipython3",
   "version": "3.8.8"
  }
 },
 "nbformat": 4,
 "nbformat_minor": 5
}
