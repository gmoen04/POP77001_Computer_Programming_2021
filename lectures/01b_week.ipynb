{
 "cells": [
  {
   "cell_type": "markdown",
   "metadata": {
    "slideshow": {
     "slide_type": "slide"
    }
   },
   "source": [
    "# Week 1: What is Computation?\n",
    "\n",
    "## POP77001 Computer Programming for Social Scientists\n",
    "\n",
    "### Tom Paskhalis\n",
    "\n",
    "##### Module website: [bit.ly/POP77001](https://bit.ly/POP77001)"
   ]
  },
  {
   "cell_type": "markdown",
   "metadata": {
    "slideshow": {
     "slide_type": "slide"
    }
   },
   "source": [
    "## Overview\n",
    "\n",
    "- Computers and Computational thinking\n",
    "- Algorithms\n",
    "- Programming languages and computer programs\n",
    "- Debugging\n",
    "- Command-line Interfaces\n",
    "- Version controlling with Git/GitHub"
   ]
  },
  {
   "cell_type": "markdown",
   "metadata": {
    "slideshow": {
     "slide_type": "slide"
    }
   },
   "source": [
    "## Computers\n",
    "\n",
    "<table>\n",
    "    <tr>\n",
    "        <td><img width=\"500\" src='../imgs/female_computers_bletchley_park.gif'></td>\n",
    "        <td><img width=\"500\" src='../imgs/computer_lab.jpg'></td>\n",
    "    </tr>\n",
    "    <tr>\n",
    "        <td style=\"text-align:center\"><h1>1940</h1></td>\n",
    "        <td style=\"text-align:center\"><h1>2021</h1></td>\n",
    "    </tr>\n",
    "</table>"
   ]
  },
  {
   "cell_type": "markdown",
   "metadata": {
    "slideshow": {
     "slide_type": "slide"
    }
   },
   "source": [
    "## More Computers\n",
    "\n",
    "<table>\n",
    "    <tr>\n",
    "        <td><img width=\"250\" src='../imgs/antikythera_mechanism.jpg'></td>\n",
    "        <td><img width=\"250\" src='../imgs/babbage_difference_engine.jpg'></td>\n",
    "        <td><img width=\"250\" src='../imgs/turing_colossus.jpg'></td>\n",
    "        <td><img width=\"250\" src='../imgs/kasparov_deep_blue.png'></td>\n",
    "    </tr>\n",
    "    <tr>\n",
    "        <td style=\"text-align:center\"><h7>Antikythera mechanism (c.100 BC)</h7></td>\n",
    "        <td style=\"text-align:center\"><h7>Difference Engine (1820s)</h7></td>\n",
    "        <td style=\"text-align:center\"><h7>Collosus (1940s)</h7></td>\n",
    "        <td style=\"text-align:center\"><h7>Deep Blue (1997)</h7></td>\n",
    "    </tr>\n",
    "</table>"
   ]
  },
  {
   "cell_type": "markdown",
   "metadata": {
    "slideshow": {
     "slide_type": "slide"
    }
   },
   "source": [
    "## Computers\n",
    "\n",
    "- Do two things:\n",
    "  1. Perform calculations\n",
    "  2. Store results of calculations"
   ]
  },
  {
   "cell_type": "markdown",
   "metadata": {
    "slideshow": {
     "slide_type": "slide"
    }
   },
   "source": [
    "## von Neumann Architecture\n",
    "\n",
    "<div style=\"text-align: center;\">\n",
    "    <img width=\"500\" height=\"300\" src=\"../imgs/neumann_architecture.png\">\n",
    "</div>\n",
    "\n",
    "Source: [Wikipedia](https://en.wikipedia.org/wiki/Von_Neumann_architecture)"
   ]
  },
  {
   "cell_type": "markdown",
   "metadata": {
    "slideshow": {
     "slide_type": "slide"
    }
   },
   "source": [
    "## Computational Thinking\n",
    "\n",
    "Computational thinking is breaking down a problem and formulating a solution in a way that both human and computer can understand and execute.\n",
    "\n",
    "- *Conceptualizing, not programming* - multiple levels of abstraction\n",
    "- *A way, that humans, not computers, think* - creatively and imaginatively\n",
    "- *Complements and combines mathematical and engineering thinking*\n",
    "\n",
    "Wing, Jeannette M. 2006. \"Computational Thinking.\" Communications of the ACM, 49 (3): 33–35. doi: [10.1145/1118178.1118215](https://doi.org/10.1145/1118178.1118215)\n"
   ]
  },
  {
   "cell_type": "markdown",
   "metadata": {
    "slideshow": {
     "slide_type": "slide"
    }
   },
   "source": [
    "## Computational Thinking\n",
    "\n",
    "- All knowledge can be thought of as:\n",
    "  1. Declarative (statement of fact, e.g. square root of 25 equals 5)\n",
    "  2. Imperative (how to, e.g. to find a square root of x, start with a guess g, check whether g\\*g is close, ...)"
   ]
  },
  {
   "cell_type": "markdown",
   "metadata": {
    "slideshow": {
     "slide_type": "slide"
    }
   },
   "source": [
    "## Algorithm\n",
    "\n",
    "- *Finite list of well-defined instructions that take input and produce output.*\n",
    "\n",
    "- Consists of a sequence of simple steps that start from input, follow some control flow and have a stopping rule."
   ]
  },
  {
   "cell_type": "markdown",
   "metadata": {
    "slideshow": {
     "slide_type": "slide"
    }
   },
   "source": [
    "## Algorithm Example\n",
    "\n",
    "<div style=\"text-align: center;\">\n",
    "    <img width=\"300\" height=\"200\" src=\"../imgs/penguin_origami.gif\">\n",
    "</div>\n",
    "\n",
    "Source: [Origami Club](https://en.origami-club.com/sea/enper-penguin/zu.html)"
   ]
  },
  {
   "cell_type": "markdown",
   "metadata": {
    "slideshow": {
     "slide_type": "slide"
    }
   },
   "source": [
    "## Algorithm Example\n",
    "\n",
    "<div style=\"text-align: center;\">\n",
    "    <img width=\"200\" height=\"100\" src=\"../imgs/euclid_flowchart.png\">\n",
    "</div>\n",
    "\n",
    "Source: [Wikipedia](https://en.wikipedia.org/wiki/Algorithm)"
   ]
  },
  {
   "cell_type": "markdown",
   "metadata": {
    "slideshow": {
     "slide_type": "slide"
    }
   },
   "source": [
    "## Programming Language\n",
    "\n",
    "Formal language used to define sequences of instructions (for computers to execute) that includes:\n",
    "\n",
    "- Primitive constructs\n",
    "- Syntax\n",
    "- Static semantics\n",
    "- Semantics"
   ]
  },
  {
   "cell_type": "markdown",
   "metadata": {
    "slideshow": {
     "slide_type": "slide"
    }
   },
   "source": [
    "## Types of Programming Languages\n",
    "\n",
    "- Low-level vs high-level\n",
    "    - E.g. available procedures for moving bits vs calculating a mean\n",
    "- General vs application-domain\n",
    "    - E.g. general-purpose vs statistical analysis\n",
    "- Interpreted vs compiled\n",
    "    - Source code executed directly vs translated into machine code"
   ]
  },
  {
   "cell_type": "markdown",
   "metadata": {
    "slideshow": {
     "slide_type": "slide"
    }
   },
   "source": [
    "## Primitive Constructs in Python\n",
    "\n",
    "- Literals"
   ]
  },
  {
   "cell_type": "code",
   "execution_count": 1,
   "metadata": {
    "slideshow": {
     "slide_type": "fragment"
    }
   },
   "outputs": [
    {
     "data": {
      "text/plain": [
       "77001"
      ]
     },
     "execution_count": 1,
     "metadata": {},
     "output_type": "execute_result"
    }
   ],
   "source": [
    "77001"
   ]
  },
  {
   "cell_type": "code",
   "execution_count": 2,
   "metadata": {
    "slideshow": {
     "slide_type": "fragment"
    }
   },
   "outputs": [
    {
     "data": {
      "text/plain": [
       "'POP'"
      ]
     },
     "execution_count": 2,
     "metadata": {},
     "output_type": "execute_result"
    }
   ],
   "source": [
    "'POP'"
   ]
  },
  {
   "cell_type": "markdown",
   "metadata": {
    "slideshow": {
     "slide_type": "fragment"
    }
   },
   "source": [
    "- Infix operators"
   ]
  },
  {
   "cell_type": "code",
   "execution_count": 3,
   "metadata": {
    "slideshow": {
     "slide_type": "fragment"
    }
   },
   "outputs": [
    {
     "data": {
      "text/plain": [
       "77024"
      ]
     },
     "execution_count": 3,
     "metadata": {},
     "output_type": "execute_result"
    }
   ],
   "source": [
    "77001 + 23"
   ]
  },
  {
   "cell_type": "markdown",
   "metadata": {
    "slideshow": {
     "slide_type": "slide"
    }
   },
   "source": [
    "## Syntax in Python\n",
    "\n",
    "- Defines which sequences of characters and symbols are well-formed\n",
    "- E.g. in English sentence \"Cat dog saw\" is invalid, while \"Cat saw dog\" is."
   ]
  },
  {
   "cell_type": "code",
   "execution_count": 4,
   "metadata": {
    "slideshow": {
     "slide_type": "fragment"
    }
   },
   "outputs": [
    {
     "data": {
      "text/plain": [
       "77024"
      ]
     },
     "execution_count": 4,
     "metadata": {},
     "output_type": "execute_result"
    }
   ],
   "source": [
    "77001 + 23"
   ]
  },
  {
   "cell_type": "code",
   "execution_count": 5,
   "metadata": {
    "slideshow": {
     "slide_type": "fragment"
    }
   },
   "outputs": [
    {
     "ename": "SyntaxError",
     "evalue": "invalid syntax (<ipython-input-5-7df1296e3e0d>, line 1)",
     "output_type": "error",
     "traceback": [
      "\u001b[0;36m  File \u001b[0;32m\"<ipython-input-5-7df1296e3e0d>\"\u001b[0;36m, line \u001b[0;32m1\u001b[0m\n\u001b[0;31m    77001 23 +\u001b[0m\n\u001b[0m          ^\u001b[0m\n\u001b[0;31mSyntaxError\u001b[0m\u001b[0;31m:\u001b[0m invalid syntax\n"
     ]
    }
   ],
   "source": [
    "77001 23 +"
   ]
  },
  {
   "cell_type": "markdown",
   "metadata": {
    "slideshow": {
     "slide_type": "slide"
    }
   },
   "source": [
    "## Static Semantics in Python\n",
    "\n",
    "- Defines which syntactically valid sequences have a meaning\n",
    "- E.g. in English sentence \"Cat seen dog\" is invalid, while \"Cat saw dog\" is."
   ]
  },
  {
   "cell_type": "code",
   "execution_count": 6,
   "metadata": {
    "slideshow": {
     "slide_type": "fragment"
    }
   },
   "outputs": [
    {
     "ename": "TypeError",
     "evalue": "can only concatenate str (not \"int\") to str",
     "output_type": "error",
     "traceback": [
      "\u001b[0;31m---------------------------------------------------------------------------\u001b[0m",
      "\u001b[0;31mTypeError\u001b[0m                                 Traceback (most recent call last)",
      "\u001b[0;32m<ipython-input-6-7d1b83a55295>\u001b[0m in \u001b[0;36m<module>\u001b[0;34m\u001b[0m\n\u001b[0;32m----> 1\u001b[0;31m \u001b[0;34m'POP'\u001b[0m \u001b[0;34m+\u001b[0m \u001b[0;36m77001\u001b[0m\u001b[0;34m\u001b[0m\u001b[0;34m\u001b[0m\u001b[0m\n\u001b[0m",
      "\u001b[0;31mTypeError\u001b[0m: can only concatenate str (not \"int\") to str"
     ]
    }
   ],
   "source": [
    "'POP' + 77001"
   ]
  },
  {
   "cell_type": "markdown",
   "metadata": {
    "slideshow": {
     "slide_type": "slide"
    }
   },
   "source": [
    "## Semantics in Programming Languages\n",
    "\n",
    "- Associates a meaning with each syntactically correct sequence of symbols that has no static semantic errors\n",
    "- Programming languages are designed so that each legal program has exactly one meaning\n",
    "- **This meaning, however, does not, necessarily, reflect the intentions of the programmer**\n",
    "- Syntactic errors are much easier to detect"
   ]
  },
  {
   "cell_type": "markdown",
   "metadata": {
    "slideshow": {
     "slide_type": "slide"
    }
   },
   "source": [
    "## Algorithms + Data Structures = Programs\n",
    "\n",
    "<div style=\"text-align: center;\">\n",
    "    <img width=\"300\" height=\"200\" src=\"../imgs/algorithms_wirth.jpg\">\n",
    "</div>"
   ]
  },
  {
   "cell_type": "markdown",
   "metadata": {
    "slideshow": {
     "slide_type": "slide"
    }
   },
   "source": [
    "## Computer Program\n",
    "\n",
    "- A collection of instructions that can be executed by computer to perform a specific task\n",
    "- For interpreted languages (e.g. Python, R, Julia) instructions (source code)\n",
    "    - Can be executed directly in the interpreter\n",
    "    - Can be stored and run from the terminal"
   ]
  },
  {
   "cell_type": "markdown",
   "metadata": {
    "slideshow": {
     "slide_type": "slide"
    }
   },
   "source": [
    "## Programming Errors\n",
    "\n",
    "- Often, programs would run with errors or behave in an unexpected way\n",
    "- Programs might crash\n",
    "- They might run too long or indefinitely\n",
    "- **Run to completion and produce an incorrect output**"
   ]
  },
  {
   "cell_type": "markdown",
   "metadata": {
    "slideshow": {
     "slide_type": "slide"
    }
   },
   "source": [
    "## Computer Bugs\n",
    "\n",
    "<table>\n",
    "    <tr>\n",
    "        <td><img width=\"700\" src='../imgs/computer_bug.jpeg'></td>\n",
    "        <td><img width=\"300\" src='../imgs/grace_hopper.jpg'></td>\n",
    "    </tr>\n",
    "</table>\n",
    "\n",
    "Grace Murray Hopper popularised the term *bug* after in 1947 her team traced an error in the Mark II to a moth trapped in a relay.\n",
    "\n",
    "Source: [US Naval History and Heritage Command](https://www.history.navy.mil/content/history/nhhc/our-collections/photography/numerical-list-of-images/nhhc-series/nh-series/NH-96000/NH-96566-KN.html)"
   ]
  },
  {
   "cell_type": "markdown",
   "metadata": {
    "slideshow": {
     "slide_type": "slide"
    }
   },
   "source": [
    "## How to Debug\n",
    "\n",
    "- Search error message online (e.g. [StackOverflow](https://stackoverflow.com/) or, indeed, [#LMDDGTFY](https://lmddgtfy.net/))\n",
    "- Insert `print()` statement to check the state between procedures\n",
    "- Use built-in debugger (stepping through procedure as it executes)\n",
    "- More to follow!"
   ]
  },
  {
   "cell_type": "markdown",
   "metadata": {
    "slideshow": {
     "slide_type": "slide"
    }
   },
   "source": [
    "## Debugging\n",
    "\n",
    "<div style=\"text-align: center;\">\n",
    "    <img width=\"300\" height=\"200\" src=\"../imgs/debugging.jpeg\">\n",
    "</div>\n",
    "\n",
    "Source: [Julia Evans](https://wizardzines.com/)"
   ]
  },
  {
   "cell_type": "markdown",
   "metadata": {
    "slideshow": {
     "slide_type": "slide"
    }
   },
   "source": [
    "## Command-line Interface (aka terminal/console/shell/command line/command prompt)\n",
    "\n",
    "- Most users today rely on graphical interfaces\n",
    "- Command line interpreters (CLIs) provide useful shortcuts\n",
    "- Computer programs can be run or scheduled in terminal/CLI\n",
    "- **CLI/terminal is usually the only available interface if you work in the cloud (AWS, Microsoft Azure, etc.)**"
   ]
  },
  {
   "cell_type": "markdown",
   "metadata": {
    "slideshow": {
     "slide_type": "slide"
    }
   },
   "source": [
    "## CLI Examples\n",
    "\n",
    "<table>\n",
    "    <tr>\n",
    "        <td><img width=\"300\" src='../imgs/windows_powershell.png'></td>\n",
    "        <td><img width=\"300\" src='../imgs/mac_zsh.jpeg'></td>\n",
    "        <td><img width=\"300\" src='../imgs/linux_bash.png'></td>\n",
    "    </tr>\n",
    "    <tr>\n",
    "        <td style=\"text-align:center\"><h3>Microsoft PowerShell (Windows)</h3></td>\n",
    "        <td style=\"text-align:center\"><h3>Z shell, zsh (macOS)</h3></td>\n",
    "        <td style=\"text-align:center\"><h3>bash (Linux/UNIX)</h3></td>\n",
    "    </tr>\n",
    "</table>"
   ]
  },
  {
   "cell_type": "markdown",
   "metadata": {
    "slideshow": {
     "slide_type": "slide"
    }
   },
   "source": [
    "## Some Useful CLI Commands\n",
    "\n",
    "| Command (Windows)   | Command (macOS/Linux)   | Description            |\n",
    "|:--------------------|:------------------------|:-----------------------|\n",
    "| exit                | exit                    | close the window       |\n",
    "| cd                  | cd                      | change directory       |\n",
    "| cd                  | pwd                     | show current directory |\n",
    "| dir                 | ls                      | list directories/files |\n",
    "| copy                | cp                      | copy file              |\n",
    "| move                | mv                      | move/rename file       |\n",
    "| mkdir               | mkdir                   | create a new directory |\n",
    "| del                 | rm                      | delete a file          |\n",
    "\n",
    "Extra: [Introduction to CLI](https://tutorial.djangogirls.org/en/intro_to_command_line/)"
   ]
  },
  {
   "cell_type": "markdown",
   "metadata": {
    "slideshow": {
     "slide_type": "slide"
    }
   },
   "source": [
    "## Version Control and Git\n",
    "\n",
    "- Version control systems (VCSs) allow automatic tracking of changes in files and collaboration\n",
    "- Git is one of several major version control systems (VCSs, see also Mercurial, Subversion)\n",
    "- [GitHub](https://github.com/) is an online hosting platform for projects that use Git for version control"
   ]
  },
  {
   "cell_type": "markdown",
   "metadata": {
    "slideshow": {
     "slide_type": "slide"
    }
   },
   "source": [
    "## Git/GitHub Workflow\n",
    "\n",
    "<div style=\"text-align: center;\">\n",
    "    <img width=\"500\" height=\"300\" src=\"../imgs/github_workflow.jpeg\">\n",
    "</div>"
   ]
  },
  {
   "cell_type": "markdown",
   "metadata": {
    "slideshow": {
     "slide_type": "slide"
    }
   },
   "source": [
    "## Some Useful Git Commands\n",
    "\n",
    "| Command                            | Description                                                    |\n",
    "|:-----------------------------------|:---------------------------------------------------------------|\n",
    "| git init \\<project name\\>          | Create a new *local repository*                                |\n",
    "| git clone \\<project url\\>          | Download a project from *remote repository*                    |\n",
    "| git status                         | Check project status                                           |\n",
    "| git diff \\<file\\>                  | Show changes between *working directory* and *staging area*    |\n",
    "| git add \\<file\\>                   | Add a file to the *staging area*                               |\n",
    "| git commit -m “\\<commit message\\>” | Create a new *commit* from changes added to the *staging area* |\n",
    "| git pull \\<remote\\> \\<branch\\>     | Fetch changes from *remote* and merge into *merge*             |\n",
    "| git push \\<remote\\> \\<branch\\>     | Push local branch to *remote repository*                       |\n",
    "\n",
    "\n",
    "Extra: [Git Cheatsheet](https://education.github.com/git-cheat-sheet-education.pdf)"
   ]
  },
  {
   "cell_type": "markdown",
   "metadata": {
    "slideshow": {
     "slide_type": "slide"
    }
   },
   "source": [
    "## Things to Try\n",
    "\n",
    "- Register on [GitHub](https://github.com/) and [GitHub Education](https://education.github.com/) (for free goodies!)\n",
    "- Create a test repository in CLI and initialise as a Git repository\n",
    "- Or create a repository on GitHub and clone to your local machine\n",
    "- Create test.txt file, add it and commit\n",
    "- Push the file to GitHub"
   ]
  },
  {
   "cell_type": "markdown",
   "metadata": {
    "slideshow": {
     "slide_type": "slide"
    }
   },
   "source": [
    "## Next\n",
    "\n",
    "- Tutorial: Python/R installation, CLIs, GitHub\n",
    "- Next week: Python Basics"
   ]
  }
 ],
 "metadata": {
  "celltoolbar": "Slideshow",
  "kernelspec": {
   "display_name": "Python 3 (ipykernel)",
   "language": "python",
   "name": "python3"
  },
  "language_info": {
   "codemirror_mode": {
    "name": "ipython",
    "version": 3
   },
   "file_extension": ".py",
   "mimetype": "text/x-python",
   "name": "python",
   "nbconvert_exporter": "python",
   "pygments_lexer": "ipython3",
   "version": "3.8.8"
  }
 },
 "nbformat": 4,
 "nbformat_minor": 4
}
