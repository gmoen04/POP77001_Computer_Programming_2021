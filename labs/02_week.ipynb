{
 "cells": [
  {
   "cell_type": "markdown",
   "metadata": {
    "slideshow": {
     "slide_type": "slide"
    }
   },
   "source": [
    "# Week 2 Tutorial: Python Basics\n",
    "\n",
    "## POP77001 Computer Programming for Social Scientists\n",
    "\n",
    "##### Module website: [bit.ly/POP77001](https://bit.ly/POP77001)"
   ]
  },
  {
   "cell_type": "markdown",
   "metadata": {
    "slideshow": {
     "slide_type": "slide"
    }
   },
   "source": [
    "## Naming conventions\n",
    "\n",
    "It is a good practice to follow usual naming convention when writing code.\n",
    "\n",
    "- Use **UPPER_CASE_WITH_UNDERSCORE** for named constants (e.g. variables that remain fixed and unmodified)\n",
    "- Use **lower_case_with_underscores** for function and variable names\n",
    "- Use **CamelCase** for classes (more on them later)\n",
    "\n",
    "Extra: [PEP 8 -- Style Guide for Python Code](https://www.python.org/dev/peps/pep-0008/)"
   ]
  },
  {
   "cell_type": "markdown",
   "metadata": {
    "slideshow": {
     "slide_type": "slide"
    }
   },
   "source": [
    "## Code layout\n",
    "\n",
    "- Limit all lines to a maximum of 79 characters.\n",
    "- Break up longer lines\n",
    "\n",
    "```\n",
    "my_list = [\n",
    "    1, 2, 3,\n",
    "    4, 5, 6,\n",
    "    ]\n",
    "    \n",
    "result = some_function_that_takes_arguments(\n",
    "    'a', 'b', 'c',\n",
    "    'd', 'e', 'f',\n",
    "    )\n",
    "    \n",
    "income = (gross_wages\n",
    "          + taxable_interest\n",
    "          + (dividends - qualified_dividends)\n",
    "          - ira_deduction\n",
    "          - student_loan_interest)\n",
    "```\n",
    "\n",
    "Extra: [PEP 8 -- Style Guide for Python Code](https://www.python.org/dev/peps/pep-0008/)"
   ]
  },
  {
   "cell_type": "markdown",
   "metadata": {
    "slideshow": {
     "slide_type": "slide"
    }
   },
   "source": [
    "## Reserved words\n",
    "\n",
    "There are 35 reserved words (keywords) in Python (as of version 3.9) that cannot be used as identifiers.\n",
    "\n",
    "|              |              |              |              |              |\n",
    "|:-------------|:-------------|:-------------|:-------------|:-------------|\n",
    "| `and`        | `continue`   | `finally`    | `is`         | `raise`      |\n",
    "| `as`         | `def`        | `for`        | `lambda`     | `return`     |\n",
    "| `assert`     | `del`        | `from`       | `nonlocal`   | `True`       |\n",
    "| `async`      | `elif`       | `global`     | `None`       | `try`        |\n",
    "| `await`      | `else`       | `if`         | `not`        | `with`       |\n",
    "| `break`      | `except`     | `import`     | `or`         | `while`      |\n",
    "| `class`      | `False`      | `in`         | `pass`       | `yield`      |\n",
    "\n",
    "Source: [Python keywords](https://docs.python.org/3/reference/lexical_analysis.html#keywords)"
   ]
  },
  {
   "cell_type": "markdown",
   "metadata": {
    "slideshow": {
     "slide_type": "slide"
    }
   },
   "source": [
    "## Defining variables\n",
    "\n",
    "- Assignment statement binds the variable name and an object."
   ]
  },
  {
   "cell_type": "code",
   "execution_count": 1,
   "metadata": {
    "slideshow": {
     "slide_type": "fragment"
    }
   },
   "outputs": [],
   "source": [
    "x = 5 # Variable 'x' is bound to object 5 of type integer"
   ]
  },
  {
   "cell_type": "markdown",
   "metadata": {
    "slideshow": {
     "slide_type": "fragment"
    }
   },
   "source": [
    "- The same object can have multiple names (⚠️ more on aliasing and copying below)"
   ]
  },
  {
   "cell_type": "code",
   "execution_count": 1,
   "metadata": {
    "slideshow": {
     "slide_type": "fragment"
    }
   },
   "outputs": [
    {
     "ename": "NameError",
     "evalue": "name 'x' is not defined",
     "output_type": "error",
     "traceback": [
      "\u001b[0;31m---------------------------------------------------------------------------\u001b[0m",
      "\u001b[0;31mNameError\u001b[0m                                 Traceback (most recent call last)",
      "\u001b[0;32m/var/folders/cw/78vhq625561fpw7wgkw9syyh0000gn/T/ipykernel_50999/1124762813.py\u001b[0m in \u001b[0;36m<module>\u001b[0;34m\u001b[0m\n\u001b[0;32m----> 1\u001b[0;31m \u001b[0my\u001b[0m \u001b[0;34m=\u001b[0m \u001b[0mx\u001b[0m\u001b[0;34m\u001b[0m\u001b[0;34m\u001b[0m\u001b[0m\n\u001b[0m\u001b[1;32m      2\u001b[0m \u001b[0mx\u001b[0m \u001b[0;34m+=\u001b[0m \u001b[0;36m3\u001b[0m \u001b[0;31m# Note that x was overriden even with addition operation as integers are immutable\u001b[0m\u001b[0;34m\u001b[0m\u001b[0;34m\u001b[0m\u001b[0m\n\u001b[1;32m      3\u001b[0m \u001b[0mprint\u001b[0m\u001b[0;34m(\u001b[0m\u001b[0mx\u001b[0m\u001b[0;34m)\u001b[0m\u001b[0;34m\u001b[0m\u001b[0;34m\u001b[0m\u001b[0m\n\u001b[1;32m      4\u001b[0m \u001b[0mprint\u001b[0m\u001b[0;34m(\u001b[0m\u001b[0my\u001b[0m\u001b[0;34m)\u001b[0m\u001b[0;34m\u001b[0m\u001b[0;34m\u001b[0m\u001b[0m\n",
      "\u001b[0;31mNameError\u001b[0m: name 'x' is not defined"
     ]
    }
   ],
   "source": [
    "y = x\n",
    "x += 3 # Note that x was overriden even with addition operation as integers are immutable\n",
    "print(x)\n",
    "print(y)"
   ]
  },
  {
   "cell_type": "code",
   "execution_count": 3,
   "metadata": {
    "slideshow": {
     "slide_type": "fragment"
    }
   },
   "outputs": [
    {
     "ename": "SyntaxError",
     "evalue": "invalid syntax (<ipython-input-3-e7559fcf0899>, line 1)",
     "output_type": "error",
     "traceback": [
      "\u001b[0;36m  File \u001b[0;32m\"<ipython-input-3-e7559fcf0899>\"\u001b[0;36m, line \u001b[0;32m1\u001b[0m\n\u001b[0;31m    try = 5 # Watch out for reserved words\u001b[0m\n\u001b[0m        ^\u001b[0m\n\u001b[0;31mSyntaxError\u001b[0m\u001b[0;31m:\u001b[0m invalid syntax\n"
     ]
    }
   ],
   "source": [
    "try = 5 # Watch out for reserved words"
   ]
  },
  {
   "cell_type": "markdown",
   "metadata": {
    "slideshow": {
     "slide_type": "slide"
    }
   },
   "source": [
    "## Strings\n",
    "\n",
    "- String (`str`) - **immutable** **ordered** sequence of characters\n",
    "- Immutable - individual elements cannot be modified\n",
    "- Ordered - strings can be sliced (unlike in R)"
   ]
  },
  {
   "cell_type": "code",
   "execution_count": 4,
   "metadata": {
    "slideshow": {
     "slide_type": "fragment"
    }
   },
   "outputs": [
    {
     "data": {
      "text/plain": [
       "'test'"
      ]
     },
     "execution_count": 4,
     "metadata": {},
     "output_type": "execute_result"
    }
   ],
   "source": [
    "s = 'test'\n",
    "s"
   ]
  },
  {
   "cell_type": "code",
   "execution_count": 5,
   "metadata": {
    "slideshow": {
     "slide_type": "fragment"
    }
   },
   "outputs": [
    {
     "data": {
      "text/plain": [
       "'t'"
      ]
     },
     "execution_count": 5,
     "metadata": {},
     "output_type": "execute_result"
    }
   ],
   "source": [
    "s[0] # slicing (indexing starts from 0!)"
   ]
  },
  {
   "cell_type": "code",
   "execution_count": 6,
   "metadata": {
    "slideshow": {
     "slide_type": "fragment"
    }
   },
   "outputs": [
    {
     "ename": "TypeError",
     "evalue": "'str' object does not support item assignment",
     "output_type": "error",
     "traceback": [
      "\u001b[0;31m---------------------------------------------------------------------------\u001b[0m",
      "\u001b[0;31mTypeError\u001b[0m                                 Traceback (most recent call last)",
      "\u001b[0;32m<ipython-input-6-01a2e453d2ff>\u001b[0m in \u001b[0;36m<module>\u001b[0;34m\u001b[0m\n\u001b[0;32m----> 1\u001b[0;31m \u001b[0ms\u001b[0m\u001b[0;34m[\u001b[0m\u001b[0;36m0\u001b[0m\u001b[0;34m]\u001b[0m \u001b[0;34m=\u001b[0m \u001b[0;34m'r'\u001b[0m \u001b[0;31m# immutability\u001b[0m\u001b[0;34m\u001b[0m\u001b[0;34m\u001b[0m\u001b[0m\n\u001b[0m",
      "\u001b[0;31mTypeError\u001b[0m: 'str' object does not support item assignment"
     ]
    }
   ],
   "source": [
    "s[0] = 'r' # immutability"
   ]
  },
  {
   "cell_type": "markdown",
   "metadata": {
    "slideshow": {
     "slide_type": "slide"
    }
   },
   "source": [
    "## Some string methods\n",
    "\n",
    "```\n",
    "s.capitalize()\n",
    "s.title()\n",
    "s.upper()\n",
    "s.lower()\n",
    "s.find(some_string)\n",
    "s.replace(one_string, another_string)\n",
    "s.strip(some_string)\n",
    "s.split(some_string)\n",
    "s.join(some_list)\n",
    "```\n",
    "\n",
    "Extra: [Python string methods](https://docs.python.org/3/library/stdtypes.html#string-methods)"
   ]
  },
  {
   "cell_type": "markdown",
   "metadata": {
    "slideshow": {
     "slide_type": "slide"
    }
   },
   "source": [
    "## Method chaining\n",
    "\n",
    "- Recall from the lecture that methods can be *chained*\n",
    "- E.g. `s.strip().replace('--', '---').title()`\n",
    "- It provides a shortcut (does not necessitate intermediate objects)\n",
    "- However, it can reduce code legibility! 📜"
   ]
  },
  {
   "cell_type": "markdown",
   "metadata": {
    "slideshow": {
     "slide_type": "slide"
    }
   },
   "source": [
    "## Working with strings\n",
    "\n",
    "- Create a string of your choice\n",
    "- Try different ways of slicing it\n",
    "- Try applying string methods\n",
    "- Make sure all results make sense to you"
   ]
  },
  {
   "cell_type": "code",
   "execution_count": 26,
   "metadata": {},
   "outputs": [
    {
     "data": {
      "text/plain": [
       "[\"I'm\", 'going', 'to', 'make', 'him', 'an', 'offer', 'he', \"can't\", 'refuse.']"
      ]
     },
     "execution_count": 26,
     "metadata": {},
     "output_type": "execute_result"
    }
   ],
   "source": [
    "s = \"I'm going to make him an offer he can't refuse.\"\n",
    "t = ['when', 'he', 'hears', 'it']\n",
    "u = ('when he hears it')\n",
    "s.split()"
   ]
  },
  {
   "cell_type": "markdown",
   "metadata": {
    "slideshow": {
     "slide_type": "slide"
    }
   },
   "source": [
    "## Lists\n",
    "\n",
    "- List (`list`) - **mutable** **ordered** sequence of elements\n",
    "- Mutable - individual elements can be modified\n",
    "- Ordered - lists can be sliced (like strings)"
   ]
  },
  {
   "cell_type": "code",
   "execution_count": 7,
   "metadata": {
    "slideshow": {
     "slide_type": "fragment"
    }
   },
   "outputs": [
    {
     "data": {
      "text/plain": [
       "[1, 2, 3]"
      ]
     },
     "execution_count": 7,
     "metadata": {},
     "output_type": "execute_result"
    }
   ],
   "source": [
    "l = [1, 2, 3]\n",
    "l"
   ]
  },
  {
   "cell_type": "code",
   "execution_count": 8,
   "metadata": {
    "slideshow": {
     "slide_type": "fragment"
    }
   },
   "outputs": [
    {
     "data": {
      "text/plain": [
       "2"
      ]
     },
     "execution_count": 8,
     "metadata": {},
     "output_type": "execute_result"
    }
   ],
   "source": [
    "l[1] # slicing"
   ]
  },
  {
   "cell_type": "code",
   "execution_count": 9,
   "metadata": {
    "slideshow": {
     "slide_type": "fragment"
    }
   },
   "outputs": [
    {
     "data": {
      "text/plain": [
       "[1, 7, 3]"
      ]
     },
     "execution_count": 9,
     "metadata": {},
     "output_type": "execute_result"
    }
   ],
   "source": [
    "l[1] = 7 # immutability\n",
    "l"
   ]
  },
  {
   "cell_type": "markdown",
   "metadata": {
    "slideshow": {
     "slide_type": "slide"
    }
   },
   "source": [
    "## Some list methods\n",
    "\n",
    "```\n",
    "l.append(some_element)\n",
    "l.extend(some_list)\n",
    "l.insert(index, some_element)\n",
    "l.remove(some_element)\n",
    "l.pop(index)\n",
    "l.sort()\n",
    "l.reverse()\n",
    "l.copy()\n",
    "```\n",
    "\n",
    "Extra: [Python list methods](https://docs.python.org/3/tutorial/datastructures.html#more-on-lists)"
   ]
  },
  {
   "cell_type": "markdown",
   "metadata": {
    "slideshow": {
     "slide_type": "slide"
    }
   },
   "source": [
    "## Aliasing vs copying\n",
    "\n",
    "- As we saw above, the same object can have multiple names.\n",
    "- It doesn't usually create a problem with immutable types, as the entire object just gets overriden\n",
    "- But it might with mutable types!\n",
    "- Compare below:"
   ]
  },
  {
   "cell_type": "code",
   "execution_count": 10,
   "metadata": {
    "slideshow": {
     "slide_type": "slide"
    }
   },
   "outputs": [
    {
     "name": "stdout",
     "output_type": "stream",
     "text": [
      "5\n",
      "5\n",
      "9788736\n",
      "9788736\n",
      "8\n",
      "5\n",
      "9788832\n",
      "9788736\n"
     ]
    }
   ],
   "source": [
    "x = 5\n",
    "y = x # Object 5 of type integer is not copied, y is just an alias!\n",
    "print(x)\n",
    "print(y)\n",
    "print(id(x)) # function id() prints out unique object identifier\n",
    "print(id(y))\n",
    "x += 3\n",
    "print(x)\n",
    "print(y)\n",
    "print(id(x))\n",
    "print(id(y))"
   ]
  },
  {
   "cell_type": "code",
   "execution_count": 11,
   "metadata": {
    "slideshow": {
     "slide_type": "slide"
    }
   },
   "outputs": [
    {
     "name": "stdout",
     "output_type": "stream",
     "text": [
      "[2, 3]\n",
      "[2, 3]\n",
      "[0, 1, 2, 3]\n",
      "[1, 2, 3, 4]\n"
     ]
    }
   ],
   "source": [
    "l1 = [1, 2, 3]\n",
    "l2 = l1 # Object [1, 2, 3] of type list is not copied, l2 is just an alias!\n",
    "l3 = l1[:]\n",
    "l4 = l1.copy() # Both [:] slicing notation and copy method create copies\n",
    "l2.pop(0) # Remove (and return) first element of the list\n",
    "l3.insert(0, 0) # Insert 0 as the first element of the list\n",
    "l4.append(4) # Append 4 to the end of the list\n",
    "print(l1)\n",
    "print(l2)\n",
    "print(l3)\n",
    "print(l4)"
   ]
  },
  {
   "cell_type": "markdown",
   "metadata": {
    "slideshow": {
     "slide_type": "slide"
    }
   },
   "source": [
    "## Working with lists\n",
    "\n",
    "- Create a list of your choice\n",
    "- Try different ways of slicing it\n",
    "- Try applying different list methods\n",
    "- Make sure all results make sense to you"
   ]
  },
  {
   "cell_type": "code",
   "execution_count": 34,
   "metadata": {},
   "outputs": [
    {
     "name": "stdout",
     "output_type": "stream",
     "text": [
      "[5, 6, 7]\n",
      "[5, 6, 7]\n",
      "[5, 6, 7, 8, 10]\n",
      "[5, 6, 7, 8, 9]\n"
     ]
    }
   ],
   "source": [
    "l1 = [5, 6, 7, 8]\n",
    "l2 = l1\n",
    "l3 = l1[:]\n",
    "l4 = l1.copy()\n",
    "l2.pop(-1)\n",
    "l3.insert(4, 10)\n",
    "l4.append(9)\n",
    "print(l1)\n",
    "print(l2)\n",
    "print(l3)\n",
    "print(l4)"
   ]
  },
  {
   "cell_type": "markdown",
   "metadata": {
    "slideshow": {
     "slide_type": "slide"
    }
   },
   "source": [
    "## Week 2: Assignment 1\n",
    "\n",
    "- Practice working with built-in Python data structures\n",
    "- Due at 11:00 on Monday, 27th September"
   ]
  }
 ],
 "metadata": {
  "celltoolbar": "Slideshow",
  "kernelspec": {
   "display_name": "Python 3 (ipykernel)",
   "language": "python",
   "name": "python3"
  },
  "language_info": {
   "codemirror_mode": {
    "name": "ipython",
    "version": 3
   },
   "file_extension": ".py",
   "mimetype": "text/x-python",
   "name": "python",
   "nbconvert_exporter": "python",
   "pygments_lexer": "ipython3",
   "version": "3.8.8"
  }
 },
 "nbformat": 4,
 "nbformat_minor": 4
}
