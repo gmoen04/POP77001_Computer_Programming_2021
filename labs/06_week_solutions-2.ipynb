{
 "cells": [
  {
   "cell_type": "markdown",
   "id": "aafd3f75",
   "metadata": {
    "slideshow": {
     "slide_type": "slide"
    }
   },
   "source": [
    "# Week 6 Tutorial: Data Wrangling in Python\n",
    "\n",
    "## POP77001 Computer Programming for Social Scientists\n",
    "\n",
    "##### Module website: [bit.ly/POP77001](https://bit.ly/POP77001)"
   ]
  },
  {
   "cell_type": "markdown",
   "id": "1bb17a5f",
   "metadata": {
    "slideshow": {
     "slide_type": "slide"
    }
   },
   "source": [
    "## Loading the dataset\n",
    "\n",
    "- Replace filepath with the location of the file on your computer\n",
    "- Alternatively, you can use file's URL on GitHub as its path:\n",
    "\n",
    "`https://raw.githubusercontent.com/ASDS-TCD/POP77001_Computer_Programming_2021/main/data/kaggle_survey_2020_responses.csv`"
   ]
  },
  {
   "cell_type": "code",
   "execution_count": 1,
   "id": "73a47bcf",
   "metadata": {
    "slideshow": {
     "slide_type": "fragment"
    }
   },
   "outputs": [],
   "source": [
    "import pandas as pd"
   ]
  },
  {
   "cell_type": "code",
   "execution_count": 2,
   "id": "2f43c2d8",
   "metadata": {
    "slideshow": {
     "slide_type": "fragment"
    }
   },
   "outputs": [
    {
     "data": {
      "text/html": [
       "<div>\n",
       "<style scoped>\n",
       "    .dataframe tbody tr th:only-of-type {\n",
       "        vertical-align: middle;\n",
       "    }\n",
       "\n",
       "    .dataframe tbody tr th {\n",
       "        vertical-align: top;\n",
       "    }\n",
       "\n",
       "    .dataframe thead th {\n",
       "        text-align: right;\n",
       "    }\n",
       "</style>\n",
       "<table border=\"1\" class=\"dataframe\">\n",
       "  <thead>\n",
       "    <tr style=\"text-align: right;\">\n",
       "      <th></th>\n",
       "      <th>Time from Start to Finish (seconds)</th>\n",
       "      <th>Q1</th>\n",
       "      <th>Q2</th>\n",
       "      <th>Q3</th>\n",
       "      <th>Q4</th>\n",
       "      <th>Q5</th>\n",
       "      <th>Q6</th>\n",
       "      <th>Q7_Part_1</th>\n",
       "      <th>Q7_Part_2</th>\n",
       "      <th>Q7_Part_3</th>\n",
       "      <th>...</th>\n",
       "      <th>Q35_B_Part_2</th>\n",
       "      <th>Q35_B_Part_3</th>\n",
       "      <th>Q35_B_Part_4</th>\n",
       "      <th>Q35_B_Part_5</th>\n",
       "      <th>Q35_B_Part_6</th>\n",
       "      <th>Q35_B_Part_7</th>\n",
       "      <th>Q35_B_Part_8</th>\n",
       "      <th>Q35_B_Part_9</th>\n",
       "      <th>Q35_B_Part_10</th>\n",
       "      <th>Q35_B_OTHER</th>\n",
       "    </tr>\n",
       "  </thead>\n",
       "  <tbody>\n",
       "    <tr>\n",
       "      <th>0</th>\n",
       "      <td>1838</td>\n",
       "      <td>35-39</td>\n",
       "      <td>Man</td>\n",
       "      <td>Colombia</td>\n",
       "      <td>Doctoral degree</td>\n",
       "      <td>Student</td>\n",
       "      <td>5-10 years</td>\n",
       "      <td>Python</td>\n",
       "      <td>R</td>\n",
       "      <td>SQL</td>\n",
       "      <td>...</td>\n",
       "      <td>NaN</td>\n",
       "      <td>NaN</td>\n",
       "      <td>NaN</td>\n",
       "      <td>TensorBoard</td>\n",
       "      <td>NaN</td>\n",
       "      <td>NaN</td>\n",
       "      <td>NaN</td>\n",
       "      <td>NaN</td>\n",
       "      <td>NaN</td>\n",
       "      <td>NaN</td>\n",
       "    </tr>\n",
       "  </tbody>\n",
       "</table>\n",
       "<p>1 rows × 355 columns</p>\n",
       "</div>"
      ],
      "text/plain": [
       "   Time from Start to Finish (seconds)     Q1   Q2        Q3               Q4  \\\n",
       "0                                 1838  35-39  Man  Colombia  Doctoral degree   \n",
       "\n",
       "        Q5          Q6 Q7_Part_1 Q7_Part_2 Q7_Part_3  ... Q35_B_Part_2  \\\n",
       "0  Student  5-10 years    Python         R       SQL  ...          NaN   \n",
       "\n",
       "  Q35_B_Part_3 Q35_B_Part_4   Q35_B_Part_5 Q35_B_Part_6 Q35_B_Part_7  \\\n",
       "0          NaN          NaN   TensorBoard           NaN          NaN   \n",
       "\n",
       "  Q35_B_Part_8 Q35_B_Part_9 Q35_B_Part_10 Q35_B_OTHER  \n",
       "0          NaN          NaN           NaN         NaN  \n",
       "\n",
       "[1 rows x 355 columns]"
      ]
     },
     "execution_count": 2,
     "metadata": {},
     "output_type": "execute_result"
    }
   ],
   "source": [
    "# This time let's skip the 2nd row, which contains questions\n",
    "kaggle2020 = pd.read_csv('../data/kaggle_survey_2020_responses.csv', skiprows = [1])\n",
    "kaggle2020.head(n = 1)"
   ]
  },
  {
   "cell_type": "code",
   "execution_count": 3,
   "id": "cf6a56f1",
   "metadata": {
    "slideshow": {
     "slide_type": "fragment"
    }
   },
   "outputs": [
    {
     "data": {
      "text/html": [
       "<div>\n",
       "<style scoped>\n",
       "    .dataframe tbody tr th:only-of-type {\n",
       "        vertical-align: middle;\n",
       "    }\n",
       "\n",
       "    .dataframe tbody tr th {\n",
       "        vertical-align: top;\n",
       "    }\n",
       "\n",
       "    .dataframe thead th {\n",
       "        text-align: right;\n",
       "    }\n",
       "</style>\n",
       "<table border=\"1\" class=\"dataframe\">\n",
       "  <thead>\n",
       "    <tr style=\"text-align: right;\">\n",
       "      <th></th>\n",
       "      <th>Time from Start to Finish (seconds)</th>\n",
       "      <th>Q1</th>\n",
       "      <th>Q2</th>\n",
       "      <th>Q3</th>\n",
       "      <th>Q4</th>\n",
       "      <th>Q5</th>\n",
       "      <th>Q6</th>\n",
       "      <th>Q7_Part_1</th>\n",
       "      <th>Q7_Part_2</th>\n",
       "      <th>Q7_Part_3</th>\n",
       "      <th>...</th>\n",
       "      <th>Q35_B_Part_2</th>\n",
       "      <th>Q35_B_Part_3</th>\n",
       "      <th>Q35_B_Part_4</th>\n",
       "      <th>Q35_B_Part_5</th>\n",
       "      <th>Q35_B_Part_6</th>\n",
       "      <th>Q35_B_Part_7</th>\n",
       "      <th>Q35_B_Part_8</th>\n",
       "      <th>Q35_B_Part_9</th>\n",
       "      <th>Q35_B_Part_10</th>\n",
       "      <th>Q35_B_OTHER</th>\n",
       "    </tr>\n",
       "  </thead>\n",
       "  <tbody>\n",
       "    <tr>\n",
       "      <th>0</th>\n",
       "      <td>Duration (in seconds)</td>\n",
       "      <td>What is your age (# years)?</td>\n",
       "      <td>What is your gender? - Selected Choice</td>\n",
       "      <td>In which country do you currently reside?</td>\n",
       "      <td>What is the highest level of formal education ...</td>\n",
       "      <td>Select the title most similar to your current ...</td>\n",
       "      <td>For how many years have you been writing code ...</td>\n",
       "      <td>What programming languages do you use on a reg...</td>\n",
       "      <td>What programming languages do you use on a reg...</td>\n",
       "      <td>What programming languages do you use on a reg...</td>\n",
       "      <td>...</td>\n",
       "      <td>In the next 2 years, do you hope to become mor...</td>\n",
       "      <td>In the next 2 years, do you hope to become mor...</td>\n",
       "      <td>In the next 2 years, do you hope to become mor...</td>\n",
       "      <td>In the next 2 years, do you hope to become mor...</td>\n",
       "      <td>In the next 2 years, do you hope to become mor...</td>\n",
       "      <td>In the next 2 years, do you hope to become mor...</td>\n",
       "      <td>In the next 2 years, do you hope to become mor...</td>\n",
       "      <td>In the next 2 years, do you hope to become mor...</td>\n",
       "      <td>In the next 2 years, do you hope to become mor...</td>\n",
       "      <td>In the next 2 years, do you hope to become mor...</td>\n",
       "    </tr>\n",
       "  </tbody>\n",
       "</table>\n",
       "<p>1 rows × 355 columns</p>\n",
       "</div>"
      ],
      "text/plain": [
       "  Time from Start to Finish (seconds)                           Q1  \\\n",
       "0               Duration (in seconds)  What is your age (# years)?   \n",
       "\n",
       "                                       Q2  \\\n",
       "0  What is your gender? - Selected Choice   \n",
       "\n",
       "                                          Q3  \\\n",
       "0  In which country do you currently reside?   \n",
       "\n",
       "                                                  Q4  \\\n",
       "0  What is the highest level of formal education ...   \n",
       "\n",
       "                                                  Q5  \\\n",
       "0  Select the title most similar to your current ...   \n",
       "\n",
       "                                                  Q6  \\\n",
       "0  For how many years have you been writing code ...   \n",
       "\n",
       "                                           Q7_Part_1  \\\n",
       "0  What programming languages do you use on a reg...   \n",
       "\n",
       "                                           Q7_Part_2  \\\n",
       "0  What programming languages do you use on a reg...   \n",
       "\n",
       "                                           Q7_Part_3  ...  \\\n",
       "0  What programming languages do you use on a reg...  ...   \n",
       "\n",
       "                                        Q35_B_Part_2  \\\n",
       "0  In the next 2 years, do you hope to become mor...   \n",
       "\n",
       "                                        Q35_B_Part_3  \\\n",
       "0  In the next 2 years, do you hope to become mor...   \n",
       "\n",
       "                                        Q35_B_Part_4  \\\n",
       "0  In the next 2 years, do you hope to become mor...   \n",
       "\n",
       "                                        Q35_B_Part_5  \\\n",
       "0  In the next 2 years, do you hope to become mor...   \n",
       "\n",
       "                                        Q35_B_Part_6  \\\n",
       "0  In the next 2 years, do you hope to become mor...   \n",
       "\n",
       "                                        Q35_B_Part_7  \\\n",
       "0  In the next 2 years, do you hope to become mor...   \n",
       "\n",
       "                                        Q35_B_Part_8  \\\n",
       "0  In the next 2 years, do you hope to become mor...   \n",
       "\n",
       "                                        Q35_B_Part_9  \\\n",
       "0  In the next 2 years, do you hope to become mor...   \n",
       "\n",
       "                                       Q35_B_Part_10  \\\n",
       "0  In the next 2 years, do you hope to become mor...   \n",
       "\n",
       "                                         Q35_B_OTHER  \n",
       "0  In the next 2 years, do you hope to become mor...  \n",
       "\n",
       "[1 rows x 355 columns]"
      ]
     },
     "execution_count": 3,
     "metadata": {},
     "output_type": "execute_result"
    }
   ],
   "source": [
    "# We will load the questions as a separate dataset\n",
    "kaggle2020_qs = pd.read_csv('../data/kaggle_survey_2020_responses.csv', nrows = 1)\n",
    "kaggle2020_qs"
   ]
  },
  {
   "cell_type": "markdown",
   "id": "d3ed2d2d",
   "metadata": {
    "slideshow": {
     "slide_type": "slide"
    }
   },
   "source": [
    "## Exercise: Summarise categorical variable\n",
    "\n",
    "- Load the dataset (as local file)\n",
    "- Consider country of residence reported by respondents (question Q3).\n",
    "- Make sure you can select the column both using label and index\n",
    "- Calculate the percentages of top 3 countries of residence in the sample"
   ]
  },
  {
   "cell_type": "code",
   "execution_count": 4,
   "id": "21d50b56",
   "metadata": {
    "slideshow": {
     "slide_type": "fragment"
    }
   },
   "outputs": [
    {
     "data": {
      "text/plain": [
       "0                                                 Colombia\n",
       "1                                 United States of America\n",
       "2                                                Argentina\n",
       "3                                 United States of America\n",
       "4                                                    Japan\n",
       "                               ...                        \n",
       "20031                                               Turkey\n",
       "20032    United Kingdom of Great Britain and Northern I...\n",
       "20033                                               Brazil\n",
       "20034                                                India\n",
       "20035                                             Pakistan\n",
       "Name: Q3, Length: 20036, dtype: object"
      ]
     },
     "execution_count": 4,
     "metadata": {},
     "output_type": "execute_result"
    }
   ],
   "source": [
    "kaggle2020['Q3']"
   ]
  },
  {
   "cell_type": "code",
   "execution_count": 5,
   "id": "4683336a",
   "metadata": {
    "slideshow": {
     "slide_type": "fragment"
    }
   },
   "outputs": [
    {
     "data": {
      "text/plain": [
       "0                                                 Colombia\n",
       "1                                 United States of America\n",
       "2                                                Argentina\n",
       "3                                 United States of America\n",
       "4                                                    Japan\n",
       "                               ...                        \n",
       "20031                                               Turkey\n",
       "20032    United Kingdom of Great Britain and Northern I...\n",
       "20033                                               Brazil\n",
       "20034                                                India\n",
       "20035                                             Pakistan\n",
       "Name: Q3, Length: 20036, dtype: object"
      ]
     },
     "execution_count": 5,
     "metadata": {},
     "output_type": "execute_result"
    }
   ],
   "source": [
    "kaggle2020.iloc[:,3]"
   ]
  },
  {
   "cell_type": "code",
   "execution_count": 6,
   "id": "1862a0b3",
   "metadata": {
    "slideshow": {
     "slide_type": "fragment"
    }
   },
   "outputs": [
    {
     "data": {
      "text/plain": [
       "India                       29.202436\n",
       "United States of America    11.164903\n",
       "Other                        6.927530\n",
       "Name: Q3, dtype: float64"
      ]
     },
     "execution_count": 6,
     "metadata": {},
     "output_type": "execute_result"
    }
   ],
   "source": [
    "kaggle2020['Q3'].value_counts(normalize = True)[:3] * 100"
   ]
  },
  {
   "cell_type": "markdown",
   "id": "ccd67c5f",
   "metadata": {
    "slideshow": {
     "slide_type": "slide"
    }
   },
   "source": [
    "## Crosstabulation in pandas"
   ]
  },
  {
   "cell_type": "code",
   "execution_count": 7,
   "id": "4743bd54",
   "metadata": {
    "slideshow": {
     "slide_type": "fragment"
    }
   },
   "outputs": [
    {
     "data": {
      "text/html": [
       "<div>\n",
       "<style scoped>\n",
       "    .dataframe tbody tr th:only-of-type {\n",
       "        vertical-align: middle;\n",
       "    }\n",
       "\n",
       "    .dataframe tbody tr th {\n",
       "        vertical-align: top;\n",
       "    }\n",
       "\n",
       "    .dataframe thead th {\n",
       "        text-align: right;\n",
       "    }\n",
       "</style>\n",
       "<table border=\"1\" class=\"dataframe\">\n",
       "  <thead>\n",
       "    <tr style=\"text-align: right;\">\n",
       "      <th>Q2</th>\n",
       "      <th>Man</th>\n",
       "      <th>Nonbinary</th>\n",
       "      <th>Prefer not to say</th>\n",
       "      <th>Prefer to self-describe</th>\n",
       "      <th>Woman</th>\n",
       "    </tr>\n",
       "    <tr>\n",
       "      <th>Q1</th>\n",
       "      <th></th>\n",
       "      <th></th>\n",
       "      <th></th>\n",
       "      <th></th>\n",
       "      <th></th>\n",
       "    </tr>\n",
       "  </thead>\n",
       "  <tbody>\n",
       "    <tr>\n",
       "      <th>18-21</th>\n",
       "      <td>2611</td>\n",
       "      <td>8</td>\n",
       "      <td>42</td>\n",
       "      <td>12</td>\n",
       "      <td>796</td>\n",
       "    </tr>\n",
       "    <tr>\n",
       "      <th>22-24</th>\n",
       "      <td>2838</td>\n",
       "      <td>12</td>\n",
       "      <td>41</td>\n",
       "      <td>9</td>\n",
       "      <td>886</td>\n",
       "    </tr>\n",
       "    <tr>\n",
       "      <th>25-29</th>\n",
       "      <td>3128</td>\n",
       "      <td>13</td>\n",
       "      <td>42</td>\n",
       "      <td>9</td>\n",
       "      <td>819</td>\n",
       "    </tr>\n",
       "    <tr>\n",
       "      <th>30-34</th>\n",
       "      <td>2246</td>\n",
       "      <td>8</td>\n",
       "      <td>44</td>\n",
       "      <td>9</td>\n",
       "      <td>504</td>\n",
       "    </tr>\n",
       "    <tr>\n",
       "      <th>35-39</th>\n",
       "      <td>1581</td>\n",
       "      <td>7</td>\n",
       "      <td>33</td>\n",
       "      <td>2</td>\n",
       "      <td>368</td>\n",
       "    </tr>\n",
       "    <tr>\n",
       "      <th>40-44</th>\n",
       "      <td>1153</td>\n",
       "      <td>2</td>\n",
       "      <td>15</td>\n",
       "      <td>5</td>\n",
       "      <td>222</td>\n",
       "    </tr>\n",
       "    <tr>\n",
       "      <th>45-49</th>\n",
       "      <td>840</td>\n",
       "      <td>1</td>\n",
       "      <td>17</td>\n",
       "      <td>4</td>\n",
       "      <td>126</td>\n",
       "    </tr>\n",
       "    <tr>\n",
       "      <th>50-54</th>\n",
       "      <td>605</td>\n",
       "      <td>0</td>\n",
       "      <td>10</td>\n",
       "      <td>2</td>\n",
       "      <td>81</td>\n",
       "    </tr>\n",
       "    <tr>\n",
       "      <th>55-59</th>\n",
       "      <td>353</td>\n",
       "      <td>0</td>\n",
       "      <td>13</td>\n",
       "      <td>0</td>\n",
       "      <td>45</td>\n",
       "    </tr>\n",
       "    <tr>\n",
       "      <th>60-69</th>\n",
       "      <td>362</td>\n",
       "      <td>1</td>\n",
       "      <td>4</td>\n",
       "      <td>2</td>\n",
       "      <td>29</td>\n",
       "    </tr>\n",
       "    <tr>\n",
       "      <th>70+</th>\n",
       "      <td>72</td>\n",
       "      <td>0</td>\n",
       "      <td>2</td>\n",
       "      <td>0</td>\n",
       "      <td>2</td>\n",
       "    </tr>\n",
       "  </tbody>\n",
       "</table>\n",
       "</div>"
      ],
      "text/plain": [
       "Q2      Man  Nonbinary  Prefer not to say  Prefer to self-describe  Woman\n",
       "Q1                                                                       \n",
       "18-21  2611          8                 42                       12    796\n",
       "22-24  2838         12                 41                        9    886\n",
       "25-29  3128         13                 42                        9    819\n",
       "30-34  2246          8                 44                        9    504\n",
       "35-39  1581          7                 33                        2    368\n",
       "40-44  1153          2                 15                        5    222\n",
       "45-49   840          1                 17                        4    126\n",
       "50-54   605          0                 10                        2     81\n",
       "55-59   353          0                 13                        0     45\n",
       "60-69   362          1                  4                        2     29\n",
       "70+      72          0                  2                        0      2"
      ]
     },
     "execution_count": 7,
     "metadata": {},
     "output_type": "execute_result"
    }
   ],
   "source": [
    "# Calculate crosstabulation between 'Age group' (Q1) and 'Gender' (Q2)\n",
    "pd.crosstab(kaggle2020['Q1'], kaggle2020['Q2'])"
   ]
  },
  {
   "cell_type": "markdown",
   "id": "e719960e",
   "metadata": {
    "slideshow": {
     "slide_type": "slide"
    }
   },
   "source": [
    "## Margins in crosstab"
   ]
  },
  {
   "cell_type": "code",
   "execution_count": 8,
   "id": "d5cbf8bf",
   "metadata": {
    "slideshow": {
     "slide_type": "fragment"
    }
   },
   "outputs": [
    {
     "data": {
      "text/html": [
       "<div>\n",
       "<style scoped>\n",
       "    .dataframe tbody tr th:only-of-type {\n",
       "        vertical-align: middle;\n",
       "    }\n",
       "\n",
       "    .dataframe tbody tr th {\n",
       "        vertical-align: top;\n",
       "    }\n",
       "\n",
       "    .dataframe thead th {\n",
       "        text-align: right;\n",
       "    }\n",
       "</style>\n",
       "<table border=\"1\" class=\"dataframe\">\n",
       "  <thead>\n",
       "    <tr style=\"text-align: right;\">\n",
       "      <th>Q2</th>\n",
       "      <th>Man</th>\n",
       "      <th>Nonbinary</th>\n",
       "      <th>Prefer not to say</th>\n",
       "      <th>Prefer to self-describe</th>\n",
       "      <th>Woman</th>\n",
       "    </tr>\n",
       "    <tr>\n",
       "      <th>Q1</th>\n",
       "      <th></th>\n",
       "      <th></th>\n",
       "      <th></th>\n",
       "      <th></th>\n",
       "      <th></th>\n",
       "    </tr>\n",
       "  </thead>\n",
       "  <tbody>\n",
       "    <tr>\n",
       "      <th>18-21</th>\n",
       "      <td>0.165368</td>\n",
       "      <td>0.153846</td>\n",
       "      <td>0.159696</td>\n",
       "      <td>0.222222</td>\n",
       "      <td>0.205260</td>\n",
       "    </tr>\n",
       "    <tr>\n",
       "      <th>22-24</th>\n",
       "      <td>0.179745</td>\n",
       "      <td>0.230769</td>\n",
       "      <td>0.155894</td>\n",
       "      <td>0.166667</td>\n",
       "      <td>0.228468</td>\n",
       "    </tr>\n",
       "    <tr>\n",
       "      <th>25-29</th>\n",
       "      <td>0.198113</td>\n",
       "      <td>0.250000</td>\n",
       "      <td>0.159696</td>\n",
       "      <td>0.166667</td>\n",
       "      <td>0.211191</td>\n",
       "    </tr>\n",
       "    <tr>\n",
       "      <th>30-34</th>\n",
       "      <td>0.142251</td>\n",
       "      <td>0.153846</td>\n",
       "      <td>0.167300</td>\n",
       "      <td>0.166667</td>\n",
       "      <td>0.129964</td>\n",
       "    </tr>\n",
       "    <tr>\n",
       "      <th>35-39</th>\n",
       "      <td>0.100133</td>\n",
       "      <td>0.134615</td>\n",
       "      <td>0.125475</td>\n",
       "      <td>0.037037</td>\n",
       "      <td>0.094894</td>\n",
       "    </tr>\n",
       "    <tr>\n",
       "      <th>40-44</th>\n",
       "      <td>0.073026</td>\n",
       "      <td>0.038462</td>\n",
       "      <td>0.057034</td>\n",
       "      <td>0.092593</td>\n",
       "      <td>0.057246</td>\n",
       "    </tr>\n",
       "    <tr>\n",
       "      <th>45-49</th>\n",
       "      <td>0.053202</td>\n",
       "      <td>0.019231</td>\n",
       "      <td>0.064639</td>\n",
       "      <td>0.074074</td>\n",
       "      <td>0.032491</td>\n",
       "    </tr>\n",
       "    <tr>\n",
       "      <th>50-54</th>\n",
       "      <td>0.038318</td>\n",
       "      <td>0.000000</td>\n",
       "      <td>0.038023</td>\n",
       "      <td>0.037037</td>\n",
       "      <td>0.020887</td>\n",
       "    </tr>\n",
       "    <tr>\n",
       "      <th>55-59</th>\n",
       "      <td>0.022357</td>\n",
       "      <td>0.000000</td>\n",
       "      <td>0.049430</td>\n",
       "      <td>0.000000</td>\n",
       "      <td>0.011604</td>\n",
       "    </tr>\n",
       "    <tr>\n",
       "      <th>60-69</th>\n",
       "      <td>0.022927</td>\n",
       "      <td>0.019231</td>\n",
       "      <td>0.015209</td>\n",
       "      <td>0.037037</td>\n",
       "      <td>0.007478</td>\n",
       "    </tr>\n",
       "    <tr>\n",
       "      <th>70+</th>\n",
       "      <td>0.004560</td>\n",
       "      <td>0.000000</td>\n",
       "      <td>0.007605</td>\n",
       "      <td>0.000000</td>\n",
       "      <td>0.000516</td>\n",
       "    </tr>\n",
       "  </tbody>\n",
       "</table>\n",
       "</div>"
      ],
      "text/plain": [
       "Q2          Man  Nonbinary  Prefer not to say  Prefer to self-describe  \\\n",
       "Q1                                                                       \n",
       "18-21  0.165368   0.153846           0.159696                 0.222222   \n",
       "22-24  0.179745   0.230769           0.155894                 0.166667   \n",
       "25-29  0.198113   0.250000           0.159696                 0.166667   \n",
       "30-34  0.142251   0.153846           0.167300                 0.166667   \n",
       "35-39  0.100133   0.134615           0.125475                 0.037037   \n",
       "40-44  0.073026   0.038462           0.057034                 0.092593   \n",
       "45-49  0.053202   0.019231           0.064639                 0.074074   \n",
       "50-54  0.038318   0.000000           0.038023                 0.037037   \n",
       "55-59  0.022357   0.000000           0.049430                 0.000000   \n",
       "60-69  0.022927   0.019231           0.015209                 0.037037   \n",
       "70+    0.004560   0.000000           0.007605                 0.000000   \n",
       "\n",
       "Q2        Woman  \n",
       "Q1               \n",
       "18-21  0.205260  \n",
       "22-24  0.228468  \n",
       "25-29  0.211191  \n",
       "30-34  0.129964  \n",
       "35-39  0.094894  \n",
       "40-44  0.057246  \n",
       "45-49  0.032491  \n",
       "50-54  0.020887  \n",
       "55-59  0.011604  \n",
       "60-69  0.007478  \n",
       "70+    0.000516  "
      ]
     },
     "execution_count": 8,
     "metadata": {},
     "output_type": "execute_result"
    }
   ],
   "source": [
    "# It is often useful to see the proportions/percentages rather than raw counts\n",
    "pd.crosstab(kaggle2020['Q1'], kaggle2020['Q2'], normalize = 'columns')"
   ]
  },
  {
   "cell_type": "markdown",
   "id": "60e7360e",
   "metadata": {
    "slideshow": {
     "slide_type": "slide"
    }
   },
   "source": [
    "## Crosstabulation in pandas with `pivot_table`"
   ]
  },
  {
   "cell_type": "code",
   "execution_count": 9,
   "id": "e130c8b5",
   "metadata": {
    "slideshow": {
     "slide_type": "fragment"
    }
   },
   "outputs": [
    {
     "data": {
      "text/html": [
       "<div>\n",
       "<style scoped>\n",
       "    .dataframe tbody tr th:only-of-type {\n",
       "        vertical-align: middle;\n",
       "    }\n",
       "\n",
       "    .dataframe tbody tr th {\n",
       "        vertical-align: top;\n",
       "    }\n",
       "\n",
       "    .dataframe thead th {\n",
       "        text-align: right;\n",
       "    }\n",
       "</style>\n",
       "<table border=\"1\" class=\"dataframe\">\n",
       "  <thead>\n",
       "    <tr style=\"text-align: right;\">\n",
       "      <th>Q2</th>\n",
       "      <th>Man</th>\n",
       "      <th>Nonbinary</th>\n",
       "      <th>Prefer not to say</th>\n",
       "      <th>Prefer to self-describe</th>\n",
       "      <th>Woman</th>\n",
       "    </tr>\n",
       "    <tr>\n",
       "      <th>Q1</th>\n",
       "      <th></th>\n",
       "      <th></th>\n",
       "      <th></th>\n",
       "      <th></th>\n",
       "      <th></th>\n",
       "    </tr>\n",
       "  </thead>\n",
       "  <tbody>\n",
       "    <tr>\n",
       "      <th>18-21</th>\n",
       "      <td>2611</td>\n",
       "      <td>8</td>\n",
       "      <td>42</td>\n",
       "      <td>12</td>\n",
       "      <td>796</td>\n",
       "    </tr>\n",
       "    <tr>\n",
       "      <th>22-24</th>\n",
       "      <td>2838</td>\n",
       "      <td>12</td>\n",
       "      <td>41</td>\n",
       "      <td>9</td>\n",
       "      <td>886</td>\n",
       "    </tr>\n",
       "    <tr>\n",
       "      <th>25-29</th>\n",
       "      <td>3128</td>\n",
       "      <td>13</td>\n",
       "      <td>42</td>\n",
       "      <td>9</td>\n",
       "      <td>819</td>\n",
       "    </tr>\n",
       "    <tr>\n",
       "      <th>30-34</th>\n",
       "      <td>2246</td>\n",
       "      <td>8</td>\n",
       "      <td>44</td>\n",
       "      <td>9</td>\n",
       "      <td>504</td>\n",
       "    </tr>\n",
       "    <tr>\n",
       "      <th>35-39</th>\n",
       "      <td>1581</td>\n",
       "      <td>7</td>\n",
       "      <td>33</td>\n",
       "      <td>2</td>\n",
       "      <td>368</td>\n",
       "    </tr>\n",
       "    <tr>\n",
       "      <th>40-44</th>\n",
       "      <td>1153</td>\n",
       "      <td>2</td>\n",
       "      <td>15</td>\n",
       "      <td>5</td>\n",
       "      <td>222</td>\n",
       "    </tr>\n",
       "    <tr>\n",
       "      <th>45-49</th>\n",
       "      <td>840</td>\n",
       "      <td>1</td>\n",
       "      <td>17</td>\n",
       "      <td>4</td>\n",
       "      <td>126</td>\n",
       "    </tr>\n",
       "    <tr>\n",
       "      <th>50-54</th>\n",
       "      <td>605</td>\n",
       "      <td>0</td>\n",
       "      <td>10</td>\n",
       "      <td>2</td>\n",
       "      <td>81</td>\n",
       "    </tr>\n",
       "    <tr>\n",
       "      <th>55-59</th>\n",
       "      <td>353</td>\n",
       "      <td>0</td>\n",
       "      <td>13</td>\n",
       "      <td>0</td>\n",
       "      <td>45</td>\n",
       "    </tr>\n",
       "    <tr>\n",
       "      <th>60-69</th>\n",
       "      <td>362</td>\n",
       "      <td>1</td>\n",
       "      <td>4</td>\n",
       "      <td>2</td>\n",
       "      <td>29</td>\n",
       "    </tr>\n",
       "    <tr>\n",
       "      <th>70+</th>\n",
       "      <td>72</td>\n",
       "      <td>0</td>\n",
       "      <td>2</td>\n",
       "      <td>0</td>\n",
       "      <td>2</td>\n",
       "    </tr>\n",
       "  </tbody>\n",
       "</table>\n",
       "</div>"
      ],
      "text/plain": [
       "Q2      Man  Nonbinary  Prefer not to say  Prefer to self-describe  Woman\n",
       "Q1                                                                       \n",
       "18-21  2611          8                 42                       12    796\n",
       "22-24  2838         12                 41                        9    886\n",
       "25-29  3128         13                 42                        9    819\n",
       "30-34  2246          8                 44                        9    504\n",
       "35-39  1581          7                 33                        2    368\n",
       "40-44  1153          2                 15                        5    222\n",
       "45-49   840          1                 17                        4    126\n",
       "50-54   605          0                 10                        2     81\n",
       "55-59   353          0                 13                        0     45\n",
       "60-69   362          1                  4                        2     29\n",
       "70+      72          0                  2                        0      2"
      ]
     },
     "execution_count": 9,
     "metadata": {},
     "output_type": "execute_result"
    }
   ],
   "source": [
    "# For `values` variable we use `Q3`, but any other would work equally well \n",
    "pd.pivot_table(kaggle2020, index = 'Q1', columns = 'Q2', values = 'Q3', aggfunc = 'count', fill_value = 0)"
   ]
  },
  {
   "cell_type": "markdown",
   "id": "63e7ad3b",
   "metadata": {
    "slideshow": {
     "slide_type": "slide"
    }
   },
   "source": [
    "## Exercise: Manipulating columns\n",
    "\n",
    "- Let's take a look at the first column which lists the time it took respondents to complete the survey (in seconds).\n",
    "- First, change column's long name to `duration_min`\n",
    "- Now modify the column such that it shows time in minutes\n",
    "- Filter dataset leaving only respondents who took more than 2 mins to respond.\n",
    "- How many are dropped?"
   ]
  },
  {
   "cell_type": "code",
   "execution_count": 10,
   "id": "cfa54e90",
   "metadata": {
    "slideshow": {
     "slide_type": "fragment"
    }
   },
   "outputs": [],
   "source": [
    "kaggle2020 = kaggle2020.rename(columns = {'Time from Start to Finish (seconds)': 'duration_min'})"
   ]
  },
  {
   "cell_type": "code",
   "execution_count": 11,
   "id": "44d39259",
   "metadata": {
    "slideshow": {
     "slide_type": "fragment"
    }
   },
   "outputs": [],
   "source": [
    "kaggle2020['duration_min'] = kaggle2020['duration_min'].map(lambda x: x/60)"
   ]
  },
  {
   "cell_type": "code",
   "execution_count": 12,
   "id": "1607989e",
   "metadata": {
    "slideshow": {
     "slide_type": "fragment"
    }
   },
   "outputs": [
    {
     "data": {
      "text/plain": [
       "0         True\n",
       "1         True\n",
       "2         True\n",
       "3         True\n",
       "4        False\n",
       "         ...  \n",
       "20031     True\n",
       "20032     True\n",
       "20033     True\n",
       "20034     True\n",
       "20035     True\n",
       "Name: duration_min, Length: 20036, dtype: bool"
      ]
     },
     "execution_count": 12,
     "metadata": {},
     "output_type": "execute_result"
    }
   ],
   "source": [
    "kaggle2020['duration_min'] > 2"
   ]
  },
  {
   "cell_type": "code",
   "execution_count": 13,
   "id": "815b12a3",
   "metadata": {
    "slideshow": {
     "slide_type": "fragment"
    }
   },
   "outputs": [],
   "source": [
    "kaggle2020_2 = kaggle2020[kaggle2020['duration_min'] > 2]"
   ]
  },
  {
   "cell_type": "code",
   "execution_count": 14,
   "id": "1117f548",
   "metadata": {
    "slideshow": {
     "slide_type": "fragment"
    }
   },
   "outputs": [
    {
     "data": {
      "text/html": [
       "<div>\n",
       "<style scoped>\n",
       "    .dataframe tbody tr th:only-of-type {\n",
       "        vertical-align: middle;\n",
       "    }\n",
       "\n",
       "    .dataframe tbody tr th {\n",
       "        vertical-align: top;\n",
       "    }\n",
       "\n",
       "    .dataframe thead th {\n",
       "        text-align: right;\n",
       "    }\n",
       "</style>\n",
       "<table border=\"1\" class=\"dataframe\">\n",
       "  <thead>\n",
       "    <tr style=\"text-align: right;\">\n",
       "      <th></th>\n",
       "      <th>duration_min</th>\n",
       "      <th>Q1</th>\n",
       "      <th>Q2</th>\n",
       "      <th>Q3</th>\n",
       "      <th>Q4</th>\n",
       "      <th>Q5</th>\n",
       "      <th>Q6</th>\n",
       "      <th>Q7_Part_1</th>\n",
       "      <th>Q7_Part_2</th>\n",
       "      <th>Q7_Part_3</th>\n",
       "      <th>...</th>\n",
       "      <th>Q35_B_Part_2</th>\n",
       "      <th>Q35_B_Part_3</th>\n",
       "      <th>Q35_B_Part_4</th>\n",
       "      <th>Q35_B_Part_5</th>\n",
       "      <th>Q35_B_Part_6</th>\n",
       "      <th>Q35_B_Part_7</th>\n",
       "      <th>Q35_B_Part_8</th>\n",
       "      <th>Q35_B_Part_9</th>\n",
       "      <th>Q35_B_Part_10</th>\n",
       "      <th>Q35_B_OTHER</th>\n",
       "    </tr>\n",
       "  </thead>\n",
       "  <tbody>\n",
       "    <tr>\n",
       "      <th>0</th>\n",
       "      <td>30.633333</td>\n",
       "      <td>35-39</td>\n",
       "      <td>Man</td>\n",
       "      <td>Colombia</td>\n",
       "      <td>Doctoral degree</td>\n",
       "      <td>Student</td>\n",
       "      <td>5-10 years</td>\n",
       "      <td>Python</td>\n",
       "      <td>R</td>\n",
       "      <td>SQL</td>\n",
       "      <td>...</td>\n",
       "      <td>NaN</td>\n",
       "      <td>NaN</td>\n",
       "      <td>NaN</td>\n",
       "      <td>TensorBoard</td>\n",
       "      <td>NaN</td>\n",
       "      <td>NaN</td>\n",
       "      <td>NaN</td>\n",
       "      <td>NaN</td>\n",
       "      <td>NaN</td>\n",
       "      <td>NaN</td>\n",
       "    </tr>\n",
       "    <tr>\n",
       "      <th>1</th>\n",
       "      <td>4821.450000</td>\n",
       "      <td>30-34</td>\n",
       "      <td>Man</td>\n",
       "      <td>United States of America</td>\n",
       "      <td>Master’s degree</td>\n",
       "      <td>Data Engineer</td>\n",
       "      <td>5-10 years</td>\n",
       "      <td>Python</td>\n",
       "      <td>R</td>\n",
       "      <td>SQL</td>\n",
       "      <td>...</td>\n",
       "      <td>NaN</td>\n",
       "      <td>NaN</td>\n",
       "      <td>NaN</td>\n",
       "      <td>NaN</td>\n",
       "      <td>NaN</td>\n",
       "      <td>NaN</td>\n",
       "      <td>NaN</td>\n",
       "      <td>NaN</td>\n",
       "      <td>NaN</td>\n",
       "      <td>NaN</td>\n",
       "    </tr>\n",
       "    <tr>\n",
       "      <th>2</th>\n",
       "      <td>14.333333</td>\n",
       "      <td>35-39</td>\n",
       "      <td>Man</td>\n",
       "      <td>Argentina</td>\n",
       "      <td>Bachelor’s degree</td>\n",
       "      <td>Software Engineer</td>\n",
       "      <td>10-20 years</td>\n",
       "      <td>NaN</td>\n",
       "      <td>NaN</td>\n",
       "      <td>NaN</td>\n",
       "      <td>...</td>\n",
       "      <td>NaN</td>\n",
       "      <td>NaN</td>\n",
       "      <td>NaN</td>\n",
       "      <td>NaN</td>\n",
       "      <td>NaN</td>\n",
       "      <td>NaN</td>\n",
       "      <td>NaN</td>\n",
       "      <td>NaN</td>\n",
       "      <td>None</td>\n",
       "      <td>NaN</td>\n",
       "    </tr>\n",
       "    <tr>\n",
       "      <th>3</th>\n",
       "      <td>8.450000</td>\n",
       "      <td>30-34</td>\n",
       "      <td>Man</td>\n",
       "      <td>United States of America</td>\n",
       "      <td>Master’s degree</td>\n",
       "      <td>Data Scientist</td>\n",
       "      <td>5-10 years</td>\n",
       "      <td>Python</td>\n",
       "      <td>NaN</td>\n",
       "      <td>SQL</td>\n",
       "      <td>...</td>\n",
       "      <td>NaN</td>\n",
       "      <td>NaN</td>\n",
       "      <td>NaN</td>\n",
       "      <td>NaN</td>\n",
       "      <td>NaN</td>\n",
       "      <td>NaN</td>\n",
       "      <td>NaN</td>\n",
       "      <td>NaN</td>\n",
       "      <td>NaN</td>\n",
       "      <td>NaN</td>\n",
       "    </tr>\n",
       "    <tr>\n",
       "      <th>5</th>\n",
       "      <td>6.683333</td>\n",
       "      <td>30-34</td>\n",
       "      <td>Man</td>\n",
       "      <td>India</td>\n",
       "      <td>Bachelor’s degree</td>\n",
       "      <td>Data Analyst</td>\n",
       "      <td>&lt; 1 years</td>\n",
       "      <td>Python</td>\n",
       "      <td>R</td>\n",
       "      <td>NaN</td>\n",
       "      <td>...</td>\n",
       "      <td>NaN</td>\n",
       "      <td>NaN</td>\n",
       "      <td>NaN</td>\n",
       "      <td>NaN</td>\n",
       "      <td>NaN</td>\n",
       "      <td>NaN</td>\n",
       "      <td>NaN</td>\n",
       "      <td>NaN</td>\n",
       "      <td>NaN</td>\n",
       "      <td>NaN</td>\n",
       "    </tr>\n",
       "    <tr>\n",
       "      <th>...</th>\n",
       "      <td>...</td>\n",
       "      <td>...</td>\n",
       "      <td>...</td>\n",
       "      <td>...</td>\n",
       "      <td>...</td>\n",
       "      <td>...</td>\n",
       "      <td>...</td>\n",
       "      <td>...</td>\n",
       "      <td>...</td>\n",
       "      <td>...</td>\n",
       "      <td>...</td>\n",
       "      <td>...</td>\n",
       "      <td>...</td>\n",
       "      <td>...</td>\n",
       "      <td>...</td>\n",
       "      <td>...</td>\n",
       "      <td>...</td>\n",
       "      <td>...</td>\n",
       "      <td>...</td>\n",
       "      <td>...</td>\n",
       "      <td>...</td>\n",
       "    </tr>\n",
       "    <tr>\n",
       "      <th>20031</th>\n",
       "      <td>2.100000</td>\n",
       "      <td>18-21</td>\n",
       "      <td>Man</td>\n",
       "      <td>Turkey</td>\n",
       "      <td>Some college/university study without earning ...</td>\n",
       "      <td>NaN</td>\n",
       "      <td>NaN</td>\n",
       "      <td>NaN</td>\n",
       "      <td>NaN</td>\n",
       "      <td>NaN</td>\n",
       "      <td>...</td>\n",
       "      <td>NaN</td>\n",
       "      <td>NaN</td>\n",
       "      <td>NaN</td>\n",
       "      <td>NaN</td>\n",
       "      <td>NaN</td>\n",
       "      <td>NaN</td>\n",
       "      <td>NaN</td>\n",
       "      <td>NaN</td>\n",
       "      <td>NaN</td>\n",
       "      <td>NaN</td>\n",
       "    </tr>\n",
       "    <tr>\n",
       "      <th>20032</th>\n",
       "      <td>9.433333</td>\n",
       "      <td>55-59</td>\n",
       "      <td>Woman</td>\n",
       "      <td>United Kingdom of Great Britain and Northern I...</td>\n",
       "      <td>Master’s degree</td>\n",
       "      <td>Currently not employed</td>\n",
       "      <td>20+ years</td>\n",
       "      <td>Python</td>\n",
       "      <td>NaN</td>\n",
       "      <td>NaN</td>\n",
       "      <td>...</td>\n",
       "      <td>NaN</td>\n",
       "      <td>NaN</td>\n",
       "      <td>NaN</td>\n",
       "      <td>NaN</td>\n",
       "      <td>NaN</td>\n",
       "      <td>NaN</td>\n",
       "      <td>NaN</td>\n",
       "      <td>NaN</td>\n",
       "      <td>None</td>\n",
       "      <td>NaN</td>\n",
       "    </tr>\n",
       "    <tr>\n",
       "      <th>20033</th>\n",
       "      <td>3.966667</td>\n",
       "      <td>30-34</td>\n",
       "      <td>Man</td>\n",
       "      <td>Brazil</td>\n",
       "      <td>Master’s degree</td>\n",
       "      <td>Research Scientist</td>\n",
       "      <td>&lt; 1 years</td>\n",
       "      <td>Python</td>\n",
       "      <td>NaN</td>\n",
       "      <td>NaN</td>\n",
       "      <td>...</td>\n",
       "      <td>NaN</td>\n",
       "      <td>NaN</td>\n",
       "      <td>NaN</td>\n",
       "      <td>NaN</td>\n",
       "      <td>NaN</td>\n",
       "      <td>NaN</td>\n",
       "      <td>NaN</td>\n",
       "      <td>NaN</td>\n",
       "      <td>NaN</td>\n",
       "      <td>NaN</td>\n",
       "    </tr>\n",
       "    <tr>\n",
       "      <th>20034</th>\n",
       "      <td>10.416667</td>\n",
       "      <td>22-24</td>\n",
       "      <td>Man</td>\n",
       "      <td>India</td>\n",
       "      <td>Bachelor’s degree</td>\n",
       "      <td>Software Engineer</td>\n",
       "      <td>3-5 years</td>\n",
       "      <td>Python</td>\n",
       "      <td>NaN</td>\n",
       "      <td>SQL</td>\n",
       "      <td>...</td>\n",
       "      <td>Weights &amp; Biases</td>\n",
       "      <td>NaN</td>\n",
       "      <td>NaN</td>\n",
       "      <td>TensorBoard</td>\n",
       "      <td>NaN</td>\n",
       "      <td>NaN</td>\n",
       "      <td>Trains</td>\n",
       "      <td>NaN</td>\n",
       "      <td>NaN</td>\n",
       "      <td>NaN</td>\n",
       "    </tr>\n",
       "    <tr>\n",
       "      <th>20035</th>\n",
       "      <td>17.183333</td>\n",
       "      <td>22-24</td>\n",
       "      <td>Man</td>\n",
       "      <td>Pakistan</td>\n",
       "      <td>Master’s degree</td>\n",
       "      <td>Machine Learning Engineer</td>\n",
       "      <td>&lt; 1 years</td>\n",
       "      <td>Python</td>\n",
       "      <td>NaN</td>\n",
       "      <td>NaN</td>\n",
       "      <td>...</td>\n",
       "      <td>Weights &amp; Biases</td>\n",
       "      <td>NaN</td>\n",
       "      <td>NaN</td>\n",
       "      <td>NaN</td>\n",
       "      <td>NaN</td>\n",
       "      <td>NaN</td>\n",
       "      <td>Trains</td>\n",
       "      <td>NaN</td>\n",
       "      <td>NaN</td>\n",
       "      <td>NaN</td>\n",
       "    </tr>\n",
       "  </tbody>\n",
       "</table>\n",
       "<p>19078 rows × 355 columns</p>\n",
       "</div>"
      ],
      "text/plain": [
       "       duration_min     Q1     Q2  \\\n",
       "0         30.633333  35-39    Man   \n",
       "1       4821.450000  30-34    Man   \n",
       "2         14.333333  35-39    Man   \n",
       "3          8.450000  30-34    Man   \n",
       "5          6.683333  30-34    Man   \n",
       "...             ...    ...    ...   \n",
       "20031      2.100000  18-21    Man   \n",
       "20032      9.433333  55-59  Woman   \n",
       "20033      3.966667  30-34    Man   \n",
       "20034     10.416667  22-24    Man   \n",
       "20035     17.183333  22-24    Man   \n",
       "\n",
       "                                                      Q3  \\\n",
       "0                                               Colombia   \n",
       "1                               United States of America   \n",
       "2                                              Argentina   \n",
       "3                               United States of America   \n",
       "5                                                  India   \n",
       "...                                                  ...   \n",
       "20031                                             Turkey   \n",
       "20032  United Kingdom of Great Britain and Northern I...   \n",
       "20033                                             Brazil   \n",
       "20034                                              India   \n",
       "20035                                           Pakistan   \n",
       "\n",
       "                                                      Q4  \\\n",
       "0                                        Doctoral degree   \n",
       "1                                        Master’s degree   \n",
       "2                                      Bachelor’s degree   \n",
       "3                                        Master’s degree   \n",
       "5                                      Bachelor’s degree   \n",
       "...                                                  ...   \n",
       "20031  Some college/university study without earning ...   \n",
       "20032                                    Master’s degree   \n",
       "20033                                    Master’s degree   \n",
       "20034                                  Bachelor’s degree   \n",
       "20035                                    Master’s degree   \n",
       "\n",
       "                              Q5           Q6 Q7_Part_1 Q7_Part_2 Q7_Part_3  \\\n",
       "0                        Student   5-10 years    Python         R       SQL   \n",
       "1                  Data Engineer   5-10 years    Python         R       SQL   \n",
       "2              Software Engineer  10-20 years       NaN       NaN       NaN   \n",
       "3                 Data Scientist   5-10 years    Python       NaN       SQL   \n",
       "5                   Data Analyst    < 1 years    Python         R       NaN   \n",
       "...                          ...          ...       ...       ...       ...   \n",
       "20031                        NaN          NaN       NaN       NaN       NaN   \n",
       "20032     Currently not employed    20+ years    Python       NaN       NaN   \n",
       "20033         Research Scientist    < 1 years    Python       NaN       NaN   \n",
       "20034          Software Engineer    3-5 years    Python       NaN       SQL   \n",
       "20035  Machine Learning Engineer    < 1 years    Python       NaN       NaN   \n",
       "\n",
       "       ...        Q35_B_Part_2 Q35_B_Part_3 Q35_B_Part_4   Q35_B_Part_5  \\\n",
       "0      ...                 NaN          NaN          NaN   TensorBoard    \n",
       "1      ...                 NaN          NaN          NaN            NaN   \n",
       "2      ...                 NaN          NaN          NaN            NaN   \n",
       "3      ...                 NaN          NaN          NaN            NaN   \n",
       "5      ...                 NaN          NaN          NaN            NaN   \n",
       "...    ...                 ...          ...          ...            ...   \n",
       "20031  ...                 NaN          NaN          NaN            NaN   \n",
       "20032  ...                 NaN          NaN          NaN            NaN   \n",
       "20033  ...                 NaN          NaN          NaN            NaN   \n",
       "20034  ...   Weights & Biases           NaN          NaN   TensorBoard    \n",
       "20035  ...   Weights & Biases           NaN          NaN            NaN   \n",
       "\n",
       "      Q35_B_Part_6 Q35_B_Part_7 Q35_B_Part_8 Q35_B_Part_9 Q35_B_Part_10  \\\n",
       "0              NaN          NaN          NaN          NaN           NaN   \n",
       "1              NaN          NaN          NaN          NaN           NaN   \n",
       "2              NaN          NaN          NaN          NaN          None   \n",
       "3              NaN          NaN          NaN          NaN           NaN   \n",
       "5              NaN          NaN          NaN          NaN           NaN   \n",
       "...            ...          ...          ...          ...           ...   \n",
       "20031          NaN          NaN          NaN          NaN           NaN   \n",
       "20032          NaN          NaN          NaN          NaN          None   \n",
       "20033          NaN          NaN          NaN          NaN           NaN   \n",
       "20034          NaN          NaN      Trains           NaN           NaN   \n",
       "20035          NaN          NaN      Trains           NaN           NaN   \n",
       "\n",
       "      Q35_B_OTHER  \n",
       "0             NaN  \n",
       "1             NaN  \n",
       "2             NaN  \n",
       "3             NaN  \n",
       "5             NaN  \n",
       "...           ...  \n",
       "20031         NaN  \n",
       "20032         NaN  \n",
       "20033         NaN  \n",
       "20034         NaN  \n",
       "20035         NaN  \n",
       "\n",
       "[19078 rows x 355 columns]"
      ]
     },
     "execution_count": 14,
     "metadata": {},
     "output_type": "execute_result"
    }
   ],
   "source": [
    "kaggle2020_2"
   ]
  },
  {
   "cell_type": "code",
   "execution_count": 15,
   "id": "b3b6d284",
   "metadata": {
    "slideshow": {
     "slide_type": "fragment"
    }
   },
   "outputs": [
    {
     "data": {
      "text/plain": [
       "(19078, 355)"
      ]
     },
     "execution_count": 15,
     "metadata": {},
     "output_type": "execute_result"
    }
   ],
   "source": [
    "kaggle2020_2.shape # pd.DataFrame.shape gives the dimensionality of a data frame"
   ]
  },
  {
   "cell_type": "code",
   "execution_count": 16,
   "id": "e9af18e8",
   "metadata": {
    "slideshow": {
     "slide_type": "fragment"
    }
   },
   "outputs": [
    {
     "data": {
      "text/plain": [
       "(20036, 355)"
      ]
     },
     "execution_count": 16,
     "metadata": {},
     "output_type": "execute_result"
    }
   ],
   "source": [
    "kaggle2020.shape"
   ]
  },
  {
   "cell_type": "code",
   "execution_count": 17,
   "id": "6579552d",
   "metadata": {
    "slideshow": {
     "slide_type": "fragment"
    }
   },
   "outputs": [
    {
     "data": {
      "text/plain": [
       "958"
      ]
     },
     "execution_count": 17,
     "metadata": {},
     "output_type": "execute_result"
    }
   ],
   "source": [
    "kaggle2020.shape[0] - kaggle2020_2.shape[0] # 958 responses were excluded"
   ]
  },
  {
   "cell_type": "markdown",
   "id": "1b5bdd4a",
   "metadata": {
    "slideshow": {
     "slide_type": "slide"
    }
   },
   "source": [
    "## Week 6: Assignment 3\n",
    "\n",
    "- Practice testing and data wrangling in Python\n",
    "- Due at 11:00 on Wednesday, 27th October"
   ]
  }
 ],
 "metadata": {
  "celltoolbar": "Slideshow",
  "kernelspec": {
   "display_name": "Python 3 (ipykernel)",
   "language": "python",
   "name": "python3"
  },
  "language_info": {
   "codemirror_mode": {
    "name": "ipython",
    "version": 3
   },
   "file_extension": ".py",
   "mimetype": "text/x-python",
   "name": "python",
   "nbconvert_exporter": "python",
   "pygments_lexer": "ipython3",
   "version": "3.8.2"
  }
 },
 "nbformat": 4,
 "nbformat_minor": 5
}
